{
 "cells": [
  {
   "cell_type": "markdown",
   "id": "ec1511",
   "metadata": {
    "collapsed": false
   },
   "source": [
    "Poniżej znajdują się ciekawe materiały dotyczące matematyki i programowania w **Pythonie** do samodzielnej nauki:\n",
    "\n",
    "* [Python Software Foundation](https://www.python.org/) – strona główna oprogramowania **Python**, dokumentacja\n",
    "* [Learn Python](https://www.learnpython.org/) – interaktywny samouczek **Pythona**\n",
    "* [SageMath Documentation](https://doc.sagemath.org/) – dokumentacja pakietu **SageMath**\n",
    "* [Sage for Undergraduates](http://www.people.vcu.edu/~clarson/bard-sage-for-undergraduates-2014.pdf) – poradnik dotyczący pakietu **SageMath**\n",
    "* [Corey Schafer](https://www.youtube.com/@coreyms/playlists) – dokładnie wyjaśnione podstawy oraz zaawansowane możliwości języka **Python**\n",
    "* [3Blue1Brown](https://www.youtube.com/@3blue1brown/playlists) – wizualizacje matematyczne\n",
    "* [Free Code Camp](https://www.youtube.com/@freecodecamp/playlists) – filmy prezentujące od podstaw wiele zagadnień dotyczących programowania\n",
    "* [Flynerd](https://www.flynerd.pl/tag/python-kurs) – kurs **Pythona** w języku polskim\n",
    "* [Practice Python](https://www.practicepython.org/) – projekty w języku **Python** dla początkujących\n",
    "* [Codecademy](https://www.codecademy.com/learn/learn-python-3) – interaktywny kurs języka **Python**\n",
    "* [w3schools](https://www.w3schools.com/python/default.asp) – proste interaktywne samouczki do nauki **Pythona** oraz innych języków programowania\n",
    "* [w3resource](https://www.w3resource.com/python-exercises/) – setki zadań z rozwiązaniami wraz z poradnikami\n",
    "* [Python AGH](https://github.com/agh-glk/python-lecture) – wykłady i laboratoria z języka **Python** na AGH w formie repozytorium na GitHubie\n",
    "* [Stack Overflow](https://stackoverflow.com/) – strona z rozwiązaniami konkretnych praktycznych problemów\n",
    "* [Chat GPT](https://openai.com/blog/chatgpt) – platforma sztucznej inteligencji\n",
    "* [LeetCode](https://leetcode.com/) – zadania pojawiające się na rozmowach o pracę\n",
    "\n"
   ]
  },
  {
   "cell_type": "markdown",
   "id": "a12616",
   "metadata": {
    "collapsed": false
   },
   "source": [
    "## Obsługa notatnika Jupyter\n",
    "\n"
   ]
  },
  {
   "cell_type": "markdown",
   "id": "4ffd6f",
   "metadata": {
    "collapsed": false
   },
   "source": [
    "<center><img src=\"https://jupyter.org/assets/homepage/main-logo.svg\"   width=\"234.6px\"  height=\"234.6px\"  style=\"object-fit:cover\"/></center>\n"
   ]
  },
  {
   "cell_type": "markdown",
   "id": "bb4106",
   "metadata": {
    "collapsed": false
   },
   "source": [
    "Nazwa <u>Jupyter</u> jest odniesieniem do trzech wspieranych języków programowania: **Julia**, **Python** oraz **R**. W przeciwieństwie do innych edytorów, notatniki Jupyter umożliwiają wykonywanie <u>wybranych fragmentów</u> kodu bez konieczności napisania <u>całego programu</u>. Poszczególne <u>komórki</u> \\(**Cells**\\) uruchamiamy za pomocą skrótu klawiszowego **Ctrl\\+Enter** bądź przycisku **Run**.\n"
   ]
  },
  {
   "cell_type": "code",
   "execution_count": 3,
   "id": "28618c",
   "metadata": {
    "collapsed": false
   },
   "outputs": [
    {
     "name": "stdout",
     "output_type": "stream",
     "text": [
      "[5, 1, -7, 6, 2]\n"
     ]
    }
   ],
   "source": [
    "# to jest komentarz!\n",
    "\n",
    "# tzw. lista przypisana do zmiennej x\n",
    "x = [5, 1, -7, 6, 2]\n",
    "\n",
    "# wyświetlenie wartości zmiennej\n",
    "print(x)"
   ]
  },
  {
   "cell_type": "markdown",
   "id": "fa8aac",
   "metadata": {
    "collapsed": false
   },
   "source": [
    "Po uruchomieniu danej <u>komórki z kodem</u> (**Code Cell**), po lewej stronie wyświetlona zostaje <u>liczba oznaczająca kolejność</u> wykonania poszczególnych bloków kodu w&nbsp;notatniku.\n",
    "\n",
    "---\n",
    "\n",
    "To jest <u>komórka z tekstem</u> (**Text Cell**) – ona nie jest numerowana. Aby wprowadzić zmiany, klikamy ją dwukrotnie. Następnie wracamy do początkowego widoku za pomocą skrótu **Ctrl+Enter**.\n",
    "\n",
    "---\n",
    "\n",
    "W późniejszych blokach możemy korzystać z kodu zawartego w <u>uruchomionych komórkach</u>. Przykładowo, deklarujemy zmienną `y` pod spodem"
   ]
  },
  {
   "cell_type": "code",
   "execution_count": 4,
   "id": "306637",
   "metadata": {
    "collapsed": false
   },
   "outputs": [
   ],
   "source": [
    "y = 13"
   ]
  },
  {
   "cell_type": "markdown",
   "id": "773798",
   "metadata": {
    "collapsed": false
   },
   "source": [
    "Teraz w kolejnych komórkach możemy korzystać z wartości przypisanej wcześniej do zmiennej `y`. Wypisujemy tę wartość na ekran za pomocą funkcji **print()**"
   ]
  },
  {
   "cell_type": "code",
   "execution_count": 5,
   "id": "dfdb13",
   "metadata": {
    "collapsed": false
   },
   "outputs": [
    {
     "name": "stdout",
     "output_type": "stream",
     "text": [
      "13\n"
     ]
    }
   ],
   "source": [
    "print(y)"
   ]
  },
  {
   "cell_type": "markdown",
   "id": "3e7bb3",
   "metadata": {
    "collapsed": false
   },
   "source": [
    "Ponadto, Jupyter domyślnie wyświetla ostatnią wprowadzoną instrukcję. Więc w <u>ostatniej linii kodu</u> nie ma potrzeby korzystania z funkcji **print()**"
   ]
  },
  {
   "cell_type": "code",
   "execution_count": 6,
   "id": "58203c",
   "metadata": {
    "collapsed": false
   },
   "outputs": [
    {
     "data": {
      "text/plain": [
       "13"
      ]
     },
     "execution_count": 6,
     "metadata": {
     },
     "output_type": "execute_result"
    }
   ],
   "source": [
    "y"
   ]
  },
  {
   "cell_type": "markdown",
   "id": "61ed86",
   "metadata": {
    "collapsed": false
   },
   "source": [
    "## Skróty klawiszowe\n",
    "\n"
   ]
  },
  {
   "cell_type": "markdown",
   "id": "f48bd1",
   "metadata": {
    "collapsed": false
   },
   "source": [
    "Poniżej przedstawione są przydatne skróty klawiszowe dostępne w <u>notatniku Jupyter</u>:\n",
    "\n",
    "1. <u>Uruchamianie</u>\n",
    "\n",
    "    * **Ctrl+Enter** – uruchamia daną komórkę i w niej pozostaje\n",
    "    * **Shift+Enter** – uruchamia daną komórkę oraz przechodzi do komórki niżej\n",
    "    * **Alt+Enter** – uruchamia daną komórkę oraz przechodzi do nowo utworzonej komórki niżej\n",
    "\n",
    "\n",
    "2. <u>Nawigacja</u>\n",
    "\n",
    "    * **Esc** – wyjście z danej komórki (czyli podświetlenie jej na niebiesko)\n",
    "    * **Enter** – przejście do danej komórki (operacja odwrotna do **Esc**)\n",
    "    * **Shift+Tab** – otwiera dokumentację danej funkcji (skrótu używamy wewnątrz nawiasu)\n",
    "\n",
    "\n",
    "3. <u>Wielofunkcyjność</u>\n",
    "\n",
    "    * **Tab** – autouzupełnienie (wpisujemy początek nazwy funkcji/zmiennej, następnie wyświetlane są propozycje)\n",
    "    * **Ctrl+/** – zakomentowuje/odkomentowuje zaznaczony blok kodu\n",
    "    * **Ctrl+LPM** – umieszcza dodatkowy kursor w miejscu wskazanym lewym przyciskiem myszy\n",
    "\n",
    "\n",
    "4. <u>Tworzenie i usuwanie</u>\n",
    "\n",
    "    * **a** – tworzy nową, pustą komórkę nad daną (**Above**)\n",
    "    * **b** – tworzy nową, pustą komórkę pod daną (**Below**)\n",
    "    * **d** x2 (dwukrotne kliknięcie klawisza **d**) – usuwa daną komórkę (**Delete**) – możemy uzyskać ten sam efekt za pomocą skrótu **x**\n",
    "\n",
    "\n",
    "5. <u>Modyfikacja i przerywanie</u>\n",
    "\n",
    "    * **m** – zmienia typ danej komórki na tekstowy, wykorzystujący język **Markdown**\n",
    "    * **y** – operacja odwrotna do **m**, czyli zamiana komórki tekstowej na komórkę z kodem\n",
    "    * **i** x2 (dwukrotne kliknięcie klawisza **i**) – przerywa wykonywanie danej komórki (**Interrupt**), np. gdy wpadniemy w nieskończoną pętlę\n",
    "\n",
    "---\n",
    "\n",
    "Aby skorzystać z ostatnich 6 skrótów klawiszowych, należy podświetlić daną komórkę na <u>niebiesko</u> (kliknąć w jej lewą część bądź wcisnąć klawisz **Esc**)."
   ]
  },
  {
   "cell_type": "markdown",
   "id": "a1f01f",
   "metadata": {
    "collapsed": false
   },
   "source": [
    "<h1><center><b>1. Wprowadzenie do języka Python</b></center></h1>"
   ]
  },
  {
   "cell_type": "markdown",
   "id": "79f9dd",
   "metadata": {
    "collapsed": false
   },
   "source": [
    "- [1.1. Podstawy języka Python](#1)\n",
    "    - [1.1.1. Funkcje wbudowane](#1-1)\n",
    "    - [1.1.2. Łańcuchy znaków](#1-2)\n",
    "- [1.2. Struktury danych](#2)\n",
    "    - [1.2.1. Lista i krotka](#2-1)\n",
    "    - [1.2.2. Słownik i zbiór](#2-2)\n",
    "- [1.3. Sterowanie programem](#3)\n",
    "    - [1.3.1. Instrukcje warunkowe](#3-1)\n",
    "    - [1.3.2. Pętle](#3-2)\n",
    "- [1.4. Funkcje](#4)\n",
    "    - [1.4.1. Definiowanie funkcji](#4-1)\n",
    "    - [1.4.2. Analiza kodu](#4-2)\n",
    "- [1.5. Importowanie bibliotek](#5)\n",
    "    - [1.5.1. Podstawy importowania bibliotek](#5-1)\n",
    "    - [1.5.2. Przykłady bibliotek](#5-2)\n",
    "\n"
   ]
  },
  {
   "cell_type": "markdown",
   "id": "c61639",
   "metadata": {
    "collapsed": false
   },
   "source": [
    "## 1.1. Podstawy języka Python<a class=\"anchor\" id=\"1\"></a>"
   ]
  },
  {
   "cell_type": "markdown",
   "id": "f9349f",
   "metadata": {
    "collapsed": false
   },
   "source": [
    "### 1.1.1. Funkcje wbudowane<a class=\"anchor\" id=\"1-1\"></a>"
   ]
  },
  {
   "cell_type": "markdown",
   "id": "1d8734",
   "metadata": {
    "collapsed": false
   },
   "source": [
    "Rozpoczniemy od przeglądu podstawowych <u>operacji arytmetycznych</u>, <u>typów danych</u> oraz <u>funkcji wbudowanych</u> dostępnych w **Pythonie**. W tym notatniku będziemy mieli do czynienia jedynie z elementami języka **Python** bez żadnych dodatków, ponieważ obsługuje go <u>Kernel</u> **Python 3** (jest to zaznaczone w lewym górnym rogu). Natomiast w kolejnych notatnikach Jupyter będziemy już stosowali Kernel **SageMath**, ktróry umożliwi nam korzystanie z bardziej zaawansowanych narzędzi – służących między innymi do <u>obliczeń i wizualizacji matematycznych</u>.\n",
    "\n",
    "---\n",
    "\n",
    "Operacje arytmetyczne:\n",
    "\n",
    "1. <u>Dodawanie</u>"
   ]
  },
  {
   "cell_type": "code",
   "execution_count": 7,
   "id": "0cee40",
   "metadata": {
    "collapsed": false
   },
   "outputs": [
    {
     "data": {
      "text/plain": [
       "8"
      ]
     },
     "execution_count": 7,
     "metadata": {
     },
     "output_type": "execute_result"
    }
   ],
   "source": [
    "3 + 5"
   ]
  },
  {
   "cell_type": "markdown",
   "id": "8a9afd",
   "metadata": {
    "collapsed": false
   },
   "source": [
    "2. <u>Odejmowanie</u>"
   ]
  },
  {
   "cell_type": "code",
   "execution_count": 8,
   "id": "2e5501",
   "metadata": {
    "collapsed": false
   },
   "outputs": [
    {
     "data": {
      "text/plain": [
       "-5"
      ]
     },
     "execution_count": 8,
     "metadata": {
     },
     "output_type": "execute_result"
    }
   ],
   "source": [
    "2 - 7"
   ]
  },
  {
   "cell_type": "markdown",
   "id": "1447c1",
   "metadata": {
    "collapsed": false
   },
   "source": [
    "3. <u>Mnożenie</u>"
   ]
  },
  {
   "cell_type": "code",
   "execution_count": 9,
   "id": "1dcdca",
   "metadata": {
    "collapsed": false
   },
   "outputs": [
    {
     "data": {
      "text/plain": [
       "7.5"
      ]
     },
     "execution_count": 9,
     "metadata": {
     },
     "output_type": "execute_result"
    }
   ],
   "source": [
    "1.5 * 5"
   ]
  },
  {
   "cell_type": "markdown",
   "id": "dbf041",
   "metadata": {
    "collapsed": false
   },
   "source": [
    "4. <u>Dzielenie</u>"
   ]
  },
  {
   "cell_type": "code",
   "execution_count": 10,
   "id": "5118e3",
   "metadata": {
    "collapsed": false
   },
   "outputs": [
    {
     "data": {
      "text/plain": [
       "2.75"
      ]
     },
     "execution_count": 10,
     "metadata": {
     },
     "output_type": "execute_result"
    }
   ],
   "source": [
    "11 / 4"
   ]
  },
  {
   "cell_type": "markdown",
   "id": "b16a9b",
   "metadata": {
    "collapsed": false
   },
   "source": [
    "5. <u>Potęgowanie</u>"
   ]
  },
  {
   "cell_type": "code",
   "execution_count": 11,
   "id": "8c6603",
   "metadata": {
    "collapsed": false
   },
   "outputs": [
    {
     "data": {
      "text/plain": [
       "64"
      ]
     },
     "execution_count": 11,
     "metadata": {
     },
     "output_type": "execute_result"
    }
   ],
   "source": [
    "2 ** 6"
   ]
  },
  {
   "cell_type": "markdown",
   "id": "0508eb",
   "metadata": {
    "collapsed": false
   },
   "source": [
    "6. <u>Dzielenie całkowite</u>"
   ]
  },
  {
   "cell_type": "code",
   "execution_count": 12,
   "id": "6a0e40",
   "metadata": {
    "collapsed": false
   },
   "outputs": [
    {
     "data": {
      "text/plain": [
       "2"
      ]
     },
     "execution_count": 12,
     "metadata": {
     },
     "output_type": "execute_result"
    }
   ],
   "source": [
    "11 // 4"
   ]
  },
  {
   "cell_type": "markdown",
   "id": "405656",
   "metadata": {
    "collapsed": false
   },
   "source": [
    "7. <u>Reszta z dzielenia (modulo)</u>"
   ]
  },
  {
   "cell_type": "code",
   "execution_count": 13,
   "id": "cf253a",
   "metadata": {
    "collapsed": false
   },
   "outputs": [
    {
     "data": {
      "text/plain": [
       "3"
      ]
     },
     "execution_count": 13,
     "metadata": {
     },
     "output_type": "execute_result"
    }
   ],
   "source": [
    "11 % 4"
   ]
  },
  {
   "cell_type": "markdown",
   "id": "c74ba2",
   "metadata": {
    "collapsed": false
   },
   "source": [
    "----\n",
    "\n",
    "Fundamentem języka **Python** są następujące <u>typy danych</u>:\n",
    "* **int** (liczby całkowite)\n",
    "* **float** (liczby zmiennoprzecinkowe)\n",
    "* **str** (ciągi znaków)\n",
    "* **bool** (wartości logiczne)\n",
    "\n",
    "---\n",
    "\n",
    "W przeciwieństwie do innych języków programowania, takich jak **C**, przy deklaracji zmiennej <u>nie musimy precyzować jej typu</u> – **Python** jest w stanie rozpoznać jej typ automatycznie"
   ]
  },
  {
   "cell_type": "code",
   "execution_count": 14,
   "id": "54a7db",
   "metadata": {
    "collapsed": false
   },
   "outputs": [
   ],
   "source": [
    "x = -3      # int (dowolna liczba całkowita)\n",
    "y = 1.6     # float (zawiera kropkę)\n",
    "z = 'tekst' # str (zapisujemy ją pomiędzy apostrofami (''), cudzysłowami (\"\") lub potrójnymi apostrofami/cudzysłowami (''''''))\n",
    "t = True    # bool (True albo False)"
   ]
  },
  {
   "cell_type": "markdown",
   "id": "3ff6bb",
   "metadata": {
    "collapsed": false
   },
   "source": [
    "Powyższą deklarację można również zapisać w jednej linijce kodu, wykorzystując <u>zapis skrócony</u>"
   ]
  },
  {
   "cell_type": "code",
   "execution_count": 15,
   "id": "f51af6",
   "metadata": {
    "collapsed": false
   },
   "outputs": [
   ],
   "source": [
    "x, y, z, t = -3, 1.6, 'tekst', True"
   ]
  },
  {
   "cell_type": "markdown",
   "id": "17eed0",
   "metadata": {
    "collapsed": false
   },
   "source": [
    "Typ danych sprawdzamy za pomocą funkcji **type()**"
   ]
  },
  {
   "cell_type": "code",
   "execution_count": 16,
   "id": "a73c87",
   "metadata": {
    "collapsed": false
   },
   "outputs": [
    {
     "name": "stdout",
     "output_type": "stream",
     "text": [
      "<class 'int'>\n",
      "<class 'float'>\n",
      "<class 'str'>\n",
      "<class 'bool'>\n"
     ]
    }
   ],
   "source": [
    "print(type(x))\n",
    "print(type(y))\n",
    "print(type(z))\n",
    "print(type(t))"
   ]
  },
  {
   "cell_type": "markdown",
   "id": "18e76b",
   "metadata": {
    "collapsed": false
   },
   "source": [
    "---\n",
    "\n",
    "**Python** oferuje wiele podstawowych <u>funkcji wbudowanych</u> (**Built-in Functions**) – czyli dostępnych <u>bez konieczności importowania</u> ich z dodatkowych bibliotek. Poznaliśmy już funkcje **print()** oraz **type()**. Teraz przeanalizujemy sposób działania innych, często używanych funkcji:\n",
    "\n",
    "1. <u>Długość sekwencji</u> – **len()**"
   ]
  },
  {
   "cell_type": "code",
   "execution_count": 17,
   "id": "3d4ee0",
   "metadata": {
    "collapsed": false
   },
   "outputs": [
    {
     "name": "stdout",
     "output_type": "stream",
     "text": [
      "Długość zmiennej tekstowej: 9\n",
      "Liczba elementów listy: 5\n"
     ]
    }
   ],
   "source": [
    "print('Długość zmiennej tekstowej:', len('cokolwiek'))\n",
    "print('Liczba elementów listy:', len([9, 4, 3, 1, 7]))"
   ]
  },
  {
   "cell_type": "markdown",
   "id": "343fee",
   "metadata": {
    "collapsed": false
   },
   "source": [
    "2. <u>Wartości maksymalna i minimalna</u> – **max()** oraz **min()**"
   ]
  },
  {
   "cell_type": "code",
   "execution_count": 18,
   "id": "71ae83",
   "metadata": {
    "collapsed": false
   },
   "outputs": [
    {
     "name": "stdout",
     "output_type": "stream",
     "text": [
      "Największa liczba: 1024\n",
      "Najmniejszy element listy: -2\n"
     ]
    }
   ],
   "source": [
    "print('Największa liczba:', max(2**10, 10**3))\n",
    "print('Najmniejszy element listy:', min([1, -2, 3, 0]))"
   ]
  },
  {
   "cell_type": "markdown",
   "id": "a6d7a9",
   "metadata": {
    "collapsed": false
   },
   "source": [
    "3. <u>Moduł</u>, czyli wartość bezwzględna – **abs()**"
   ]
  },
  {
   "cell_type": "code",
   "execution_count": 19,
   "id": "e1544a",
   "metadata": {
    "collapsed": false
   },
   "outputs": [
    {
     "data": {
      "text/plain": [
       "5"
      ]
     },
     "execution_count": 19,
     "metadata": {
     },
     "output_type": "execute_result"
    }
   ],
   "source": [
    "abs(-5)"
   ]
  },
  {
   "cell_type": "markdown",
   "id": "c0a6db",
   "metadata": {
    "collapsed": false
   },
   "source": [
    "4. <u>Suma</u> elementów sekwencji – **sum()**"
   ]
  },
  {
   "cell_type": "code",
   "execution_count": 20,
   "id": "e7d9bb",
   "metadata": {
    "collapsed": false
   },
   "outputs": [
    {
     "data": {
      "text/plain": [
       "21"
      ]
     },
     "execution_count": 20,
     "metadata": {
     },
     "output_type": "execute_result"
    }
   ],
   "source": [
    "sum([1, 2, 3, 4, 5, 6])"
   ]
  },
  {
   "cell_type": "markdown",
   "id": "3daffa",
   "metadata": {
    "collapsed": false
   },
   "source": [
    "5. <u>Zaokrąglenie</u> – **round()**"
   ]
  },
  {
   "cell_type": "code",
   "execution_count": 21,
   "id": "3b8ac0",
   "metadata": {
    "collapsed": false
   },
   "outputs": [
    {
     "name": "stdout",
     "output_type": "stream",
     "text": [
      "3.142\n",
      "3.1\n"
     ]
    }
   ],
   "source": [
    "print(round(3.14159, 3))  # do 3 miejsc po przecinku\n",
    "print(round(3.14159, 1))  # do 1 miejsca po przecinku"
   ]
  },
  {
   "cell_type": "markdown",
   "id": "bced6d",
   "metadata": {
    "collapsed": false
   },
   "source": [
    "6. <u>Rzutowanie</u>, czyli zmiana typu zmiennej – **int()**, **list()** itd."
   ]
  },
  {
   "cell_type": "code",
   "execution_count": 22,
   "id": "fe2903",
   "metadata": {
    "collapsed": false
   },
   "outputs": [
    {
     "name": "stdout",
     "output_type": "stream",
     "text": [
      "5.0\n",
      "777\n"
     ]
    }
   ],
   "source": [
    "print(float(5))  # zmiana typu z int na float (pojawia się charakterystyczna kropka)\n",
    "print(str(777))  # zmiana typu z int na str"
   ]
  },
  {
   "cell_type": "markdown",
   "id": "39bf35",
   "metadata": {
    "collapsed": false
   },
   "source": [
    "7. <u>Generowanie sekwencji liczb</u> – **range()**\n",
    "\n",
    "---\n",
    "\n",
    "Warto zwrócić uwagę na tę ważną funkcję wbudowaną. Przykładowo, **range(2, 7)** zwróci sekwencję od 2 (<u>włącznie</u>) do 6 (<u>bez ostatniego elementu</u> 7). Jest to typowa konwencja w języku **Python** – przedział <u>lewostronnie domknięty i prawostronnie otwarty</u>.\n",
    "\n",
    "---\n",
    "\n",
    "Możemy również stosować zapis skrócony – **range(6)**, który <u>domyślnie</u> utworzy sekwencję od 0 włącznie do 5 (z wyłączeniem ostatniego elementu 6). Funkcja **range()** działa podobnie jak tzw. <u>generator</u> – dla tego typu obiektu należy zastosować <u>rzutowanie na typ listy</u> za pomocą funkcji **list()**, aby zobaczyć efekt jego działania"
   ]
  },
  {
   "cell_type": "code",
   "execution_count": 23,
   "id": "a4cebf",
   "metadata": {
    "collapsed": false
   },
   "outputs": [
    {
     "name": "stdout",
     "output_type": "stream",
     "text": [
      "[2, 3, 4, 5, 6]\n",
      "[0, 1, 2, 3, 4, 5]\n",
      "[1, 3, 5, 7]\n"
     ]
    }
   ],
   "source": [
    "print(list(range(2, 7)))     # rzutujemy na listę, aby wynik był widoczny na ekranie\n",
    "print(list(range(6)))        # domyślnie zaczynamy od 0\n",
    "print(list(range(1, 9, 2)))  # co drugi element od 1 do 8"
   ]
  },
  {
   "cell_type": "markdown",
   "id": "f5fc57",
   "metadata": {
    "collapsed": false
   },
   "source": [
    "### 1.1.2. Łańcuchy znaków<a class=\"anchor\" id=\"1-2\"></a>"
   ]
  },
  {
   "cell_type": "markdown",
   "id": "a7f4f7",
   "metadata": {
    "collapsed": false
   },
   "source": [
    "<u>Zmienne tekstowe</u> deklarujemy poprzez umieszczenie ciągu znaków pomiędzy <u>apostrofami lub cudzysłowami</u>. Cudzysłów jest zazwyczaj używany wtedy, gdy ciąg znaków <u>zawiera apostrofy</u>"
   ]
  },
  {
   "cell_type": "code",
   "execution_count": 24,
   "id": "c44706",
   "metadata": {
    "collapsed": false
   },
   "outputs": [
   ],
   "source": [
    "tekst = \"I'm, you're, it's\""
   ]
  },
  {
   "cell_type": "markdown",
   "id": "190a17",
   "metadata": {
    "collapsed": false
   },
   "source": [
    "Łańcuchy znaków można <u>dodawać bądź powielać</u>"
   ]
  },
  {
   "cell_type": "code",
   "execution_count": 25,
   "id": "9570c6",
   "metadata": {
    "collapsed": false
   },
   "outputs": [
    {
     "name": "stdout",
     "output_type": "stream",
     "text": [
      "cokolwiek\n",
      "wiekwiekwiek\n"
     ]
    }
   ],
   "source": [
    "a, b = 'cokol', 'wiek'\n",
    "\n",
    "print(a + b)\n",
    "print(3 * b)"
   ]
  },
  {
   "cell_type": "markdown",
   "id": "1703b2",
   "metadata": {
    "collapsed": false
   },
   "source": [
    "Przeanalizujmy najbardziej użyteczne funkcje wbudowane do manipulacji zmiennymi tekstowymi. Zaczniemy od funkcji **split()**, która dzieli dany łańcuch na fragmenty oddzielone wskazanym <u>separatorem</u>. W ten sposób ze zmiennej typu **str** uzyskujemy wynik typu **list**"
   ]
  },
  {
   "cell_type": "code",
   "execution_count": 26,
   "id": "8cc063",
   "metadata": {
    "collapsed": false
   },
   "outputs": [
    {
     "data": {
      "text/plain": [
       "[\"I'm\", \" you're\", \" it's\"]"
      ]
     },
     "execution_count": 26,
     "metadata": {
     },
     "output_type": "execute_result"
    }
   ],
   "source": [
    "tekst.split(',')"
   ]
  },
  {
   "cell_type": "markdown",
   "id": "bc7f53",
   "metadata": {
    "collapsed": false
   },
   "source": [
    "Zauważmy, że funkcję **split()** stosujemy na zmiennej `tekst` za pomocą <u>operatora kropki</u>. Będziemy często korzystali z tej konwencji wykorzystywania funkcji <u>w&nbsp;odniesieniu do danej zmiennej</u> (szczególnie w pakiecie **SageMath**). Wewnątrz nawiasów umieszczamy <u>argumenty funkcji</u> – w tym wypadku mamy jeden argument&nbsp;– przecinek oznaczający separator, na podstawie którego dokonywany jest podział tekstu.\n",
    "\n",
    "---\n",
    "\n",
    "Warto też zwrócić uwagę na to, że większość funkcji w **Pythonie** <u>nie modyfikuje zmiennej</u> – wynik jest jedynie zwracany – a w Jupyterze dodatkowo wypisywany na ekran. Aby wprowadzić <u>modyfikacje</u>, możemy zastosować zapis `tekst = tekst.split(',')`.\n",
    "\n",
    "---\n",
    "\n",
    "Podsumujmy jeszcze raz dwa sposoby korzystania z funkcji w języku **Python**:\n",
    "\n",
    "1. <u>Zmienna jako pierwszy argument</u> (np. `round(x, 3)`)\n",
    "```\n",
    "# arg1, arg2, arg3, ... – argumenty (mogą nie występować)\n",
    "funkcja(zmienna, arg1, arg2, arg3, ...)\n",
    "```\n",
    "2. <u>Wykorzystanie operatora kropki</u> (np. `x.split(',')`)\n",
    "```\n",
    "zmienna.funkcja(arg1, arg2, arg3, ...)\n",
    "```\n",
    "---\n",
    "\n",
    "<u>Typy przyjmowanych argumentów</u> możemy sprawdzić za pomocą komendy `help(funkcja)` lub poprzez skrót klawiszowy **Shift+Tab**. Przykładowo, w ten sposób możemy sprawdzić, że w zapisie `sum([1, 2, 3])` funkcja **sum()** przyjmuje <u>jeden argument</u>, którym jest lista. Z kolei instrukcja `sum(1, 2, 3)` <u>spowoduje błąd</u>.\n",
    "\n",
    "---\n",
    "\n",
    "<u>Domyślnym separatorem</u> dla funkcji **split()** jest spacja (' '). Wobec tego, gdy chcemy podzielić zdanie na poszczególne <u>słowa</u>, nie ma konieczności podawania tego argumentu w nawiasie"
   ]
  },
  {
   "cell_type": "code",
   "execution_count": 27,
   "id": "ff86ca",
   "metadata": {
    "collapsed": false
   },
   "outputs": [
    {
     "data": {
      "text/plain": [
       "['To', 'jest', 'zdanie']"
      ]
     },
     "execution_count": 27,
     "metadata": {
     },
     "output_type": "execute_result"
    }
   ],
   "source": [
    "zdanie = 'To jest zdanie'\n",
    "zdanie.split()"
   ]
  },
  {
   "cell_type": "markdown",
   "id": "910bb3",
   "metadata": {
    "collapsed": false
   },
   "source": [
    "Operację odwrotną do funkcji **split()** stanowi funkcja **join()**, która <u>łączy listę łańcuchów</u> znakowych w jeden łańcuch"
   ]
  },
  {
   "cell_type": "code",
   "execution_count": 28,
   "id": "de2576",
   "metadata": {
    "collapsed": false
   },
   "outputs": [
    {
     "name": "stdout",
     "output_type": "stream",
     "text": [
      "abc\n",
      "a b c\n",
      "a|b|c\n"
     ]
    }
   ],
   "source": [
    "lista = ['a', 'b', 'c']\n",
    "\n",
    "print(''.join(lista))\n",
    "print(' '.join(lista))\n",
    "print('|'.join(lista))"
   ]
  },
  {
   "cell_type": "markdown",
   "id": "820f1a",
   "metadata": {
    "collapsed": false
   },
   "source": [
    "---\n",
    "\n",
    "Inne przydatne funkcje wbudowane:\n",
    "\n",
    "1. <u>Zamiana wszystkich liter na małe lub wielkie</u> – **lower()** oraz **upper()**"
   ]
  },
  {
   "cell_type": "code",
   "execution_count": 29,
   "id": "d3868c",
   "metadata": {
    "collapsed": false
   },
   "outputs": [
    {
     "name": "stdout",
     "output_type": "stream",
     "text": [
      "to jest zdanie\n",
      "TO JEST ZDANIE\n"
     ]
    }
   ],
   "source": [
    "print(zdanie.lower())\n",
    "print(zdanie.upper())"
   ]
  },
  {
   "cell_type": "markdown",
   "id": "80eab8",
   "metadata": {
    "collapsed": false
   },
   "source": [
    "2. <u>Zmiana wystąpienia określonej sekwencji na inną</u> – **replace()**"
   ]
  },
  {
   "cell_type": "code",
   "execution_count": 30,
   "id": "ef70ef",
   "metadata": {
    "collapsed": false
   },
   "outputs": [
    {
     "data": {
      "text/plain": [
       "'To nie jest zdanie'"
      ]
     },
     "execution_count": 30,
     "metadata": {
     },
     "output_type": "execute_result"
    }
   ],
   "source": [
    "zdanie.replace('jest', 'nie jest')"
   ]
  },
  {
   "cell_type": "markdown",
   "id": "4f19a9",
   "metadata": {
    "collapsed": false
   },
   "source": [
    "3. <u>Określenie liczby wystąpień danej sekwencji</u> – **count()**"
   ]
  },
  {
   "cell_type": "code",
   "execution_count": 31,
   "id": "b0e39c",
   "metadata": {
    "collapsed": false
   },
   "outputs": [
    {
     "data": {
      "text/plain": [
       "2"
      ]
     },
     "execution_count": 31,
     "metadata": {
     },
     "output_type": "execute_result"
    }
   ],
   "source": [
    "zdanie.count('e')"
   ]
  },
  {
   "cell_type": "markdown",
   "id": "963d81",
   "metadata": {
    "collapsed": false
   },
   "source": [
    "---\n",
    "\n",
    "Aby <u>wypisać zmienną w tekście</u>, można wykorzystać jeden z poniższych sposobów:\n",
    "\n",
    "1. <u>f-string</u> (zalecany sposób) – poprzedzamy łańcuch znakowy literą `f` i wpisujemy w nawiasach klamrowych zmienne, które chcemy umieścić w tekście"
   ]
  },
  {
   "cell_type": "code",
   "execution_count": 32,
   "id": "565c7b",
   "metadata": {
    "collapsed": false
   },
   "outputs": [
    {
     "name": "stdout",
     "output_type": "stream",
     "text": [
      "Liczby 2 oraz 3.5.\n"
     ]
    }
   ],
   "source": [
    "# zmienne można deklarować w jednej linijce, tutaj a = 2 oraz b = 3.5\n",
    "a, b = 2, 3.5\n",
    "\n",
    "# f-string\n",
    "print(f'Liczby {a} oraz {b}.')"
   ]
  },
  {
   "cell_type": "markdown",
   "id": "77b508",
   "metadata": {
    "collapsed": false
   },
   "source": [
    "2. <u>format</u> – zasada działania jest taka sama, tylko zmienne przekazujemy jako argumenty funkcji **format()** za pomocą operatora kropki"
   ]
  },
  {
   "cell_type": "code",
   "execution_count": 33,
   "id": "b28ac2",
   "metadata": {
    "collapsed": false
   },
   "outputs": [
    {
     "name": "stdout",
     "output_type": "stream",
     "text": [
      "Liczby 2 oraz 3.5.\n"
     ]
    }
   ],
   "source": [
    "print('Liczby {} oraz {}.'.format(a, b))"
   ]
  },
  {
   "cell_type": "markdown",
   "id": "5f7127",
   "metadata": {
    "collapsed": false
   },
   "source": [
    "3. <u>C-style</u> – zamiast zmiennych umieszczamy specyfikatory formatu (tutaj `%d` oznacza liczbę całkowitą (**int**), a `%f` zmiennoprzecinkową (**float**))"
   ]
  },
  {
   "cell_type": "code",
   "execution_count": 34,
   "id": "e8e1de",
   "metadata": {
    "collapsed": false
   },
   "outputs": [
    {
     "name": "stdout",
     "output_type": "stream",
     "text": [
      "Liczby 2 oraz 3.500000.\n"
     ]
    }
   ],
   "source": [
    "print('Liczby %d oraz %f.' %(a, b))"
   ]
  },
  {
   "cell_type": "markdown",
   "id": "117ef4",
   "metadata": {
    "collapsed": false
   },
   "source": [
    "4. <u>Dodawanie łańcuchów znakowych oraz rzutowanie</u> – teksty możemy ze sobą sklejać za pomocą symbolu `+`, liczby należy najpierw zrzutować na typ **str**"
   ]
  },
  {
   "cell_type": "code",
   "execution_count": 35,
   "id": "593620",
   "metadata": {
    "collapsed": false
   },
   "outputs": [
    {
     "name": "stdout",
     "output_type": "stream",
     "text": [
      "Liczby 2 oraz 3.5.\n"
     ]
    }
   ],
   "source": [
    "print('Liczby ' + str(a) + ' oraz ' + str(b) + '.')"
   ]
  },
  {
   "cell_type": "markdown",
   "id": "f8d795",
   "metadata": {
    "collapsed": false
   },
   "source": [
    "---\n",
    "\n",
    "Składnia f-string umożliwia stosowanie tzw. <u>specyfikatorów formatu</u>, które pozwalają wyświetlić wartość zmiennej w żądany sposób:\n",
    "\n",
    "1. <u>Zaokrąglenie</u>"
   ]
  },
  {
   "cell_type": "code",
   "execution_count": 36,
   "id": "74bed8",
   "metadata": {
    "collapsed": false
   },
   "outputs": [
    {
     "data": {
      "text/plain": [
       "'Zaokrąglenie zmiennej x do 3 miejsc po przecinku: 1.235'"
      ]
     },
     "execution_count": 36,
     "metadata": {
     },
     "output_type": "execute_result"
    }
   ],
   "source": [
    "x = 1.23456\n",
    "\n",
    "f'Zaokrąglenie zmiennej x do 3 miejsc po przecinku: {x:.3f}'"
   ]
  },
  {
   "cell_type": "markdown",
   "id": "c514f0",
   "metadata": {
    "collapsed": false
   },
   "source": [
    "2. <u>Formatowanie</u>"
   ]
  },
  {
   "cell_type": "code",
   "execution_count": 37,
   "id": "52e698",
   "metadata": {
    "collapsed": false
   },
   "outputs": [
    {
     "data": {
      "text/plain": [
       "'Zapis liczby w krajach anglojęzycznych: 123,456,789'"
      ]
     },
     "execution_count": 37,
     "metadata": {
     },
     "output_type": "execute_result"
    }
   ],
   "source": [
    "x = 123_456_789  # możemy dodawać podkreślenia, aby zwiększyć czytelność (są one ignorowane)\n",
    "\n",
    "f'Zapis liczby w krajach anglojęzycznych: {x:,}'"
   ]
  },
  {
   "cell_type": "markdown",
   "id": "91b90c",
   "metadata": {
    "collapsed": false
   },
   "source": [
    "3. <u>Notacja wykładnicza</u>"
   ]
  },
  {
   "cell_type": "code",
   "execution_count": 38,
   "id": "3f11ac",
   "metadata": {
    "collapsed": false
   },
   "outputs": [
    {
     "data": {
      "text/plain": [
       "'Liczba zapisana w notacji wykładniczej: 6.710000e+02'"
      ]
     },
     "execution_count": 38,
     "metadata": {
     },
     "output_type": "execute_result"
    }
   ],
   "source": [
    "zmienna = 671\n",
    "\n",
    "f'Liczba zapisana w notacji wykładniczej: {zmienna:e}'"
   ]
  },
  {
   "cell_type": "markdown",
   "id": "00213f",
   "metadata": {
    "collapsed": false
   },
   "source": [
    "4. <u>Zmiana systemu liczbowego</u>"
   ]
  },
  {
   "cell_type": "code",
   "execution_count": 39,
   "id": "7be5c6",
   "metadata": {
    "collapsed": false
   },
   "outputs": [
    {
     "name": "stdout",
     "output_type": "stream",
     "text": [
      "Zmienna w systemie dwójkowym zapisana na 16 bitach: 0000001010011111\n",
      "Zmienna w systemie ósemkowym: 1237\n",
      "Zmienna w systemie szesnastkowym: 29F\n"
     ]
    }
   ],
   "source": [
    "print(f'Zmienna w systemie dwójkowym zapisana na 16 bitach: {zmienna:016b}')\n",
    "print(f'Zmienna w systemie ósemkowym: {zmienna:o}')\n",
    "print(f'Zmienna w systemie szesnastkowym: {zmienna:X}')"
   ]
  },
  {
   "cell_type": "markdown",
   "id": "e87c41",
   "metadata": {
    "collapsed": false
   },
   "source": [
    "5. <u>Procent</u>"
   ]
  },
  {
   "cell_type": "code",
   "execution_count": 40,
   "id": "7cd42c",
   "metadata": {
    "collapsed": false
   },
   "outputs": [
    {
     "data": {
      "text/plain": [
       "'Wartość 0.256 w procentach to: 25.6%.'"
      ]
     },
     "execution_count": 40,
     "metadata": {
     },
     "output_type": "execute_result"
    }
   ],
   "source": [
    "x = 0.256\n",
    "\n",
    "f'Wartość {x} w procentach to: {x:.1%}.'"
   ]
  },
  {
   "cell_type": "markdown",
   "id": "cc137d",
   "metadata": {
    "collapsed": false
   },
   "source": [
    "**Zadanie 1.1**\n",
    "\n",
    "a) Przypisz do zmiennej $N$ liczbę utworzoną z <u>3 ostatnich cyfr numeru albumu</u> (czyli `nr % 1000`)! Następnie oblicz <u>sumę liczb nieparzystych</u> od 1 do $N$ włącznie. Na przykład dla `nr = 123456` należy znaleźć sumę\n",
    "\n",
    "$$1 + 3 + 5 + \\cdots + 453 + 455$$\n",
    "\n",
    "---\n",
    "\n",
    "b) Utwórz zmienną zawierającą <u>zdanie wielokrotnie złożone</u>! Następnie:\n",
    "\n",
    "* zamień wszystkie <u>litery na małe</u>, usuń <u>znaki interpunkcyjne</u>, przypisz wynik do <u>innej zmiennej</u> oraz <u>wyświetl jej wartość</u> na ekranie;\n",
    "* napisz program zwracający <u>liczbę słów</u> w podanym zdaniu;\n",
    "* oblicz i przypisz do zmiennej (np. `wynik`), <u>jaki procent wszystkich słów stanowią rzeczowniki</u> – a następnie <u>uzupełnij poniższe zdanie</u>, korzystając tylko z&nbsp;wartości tej zmiennej:\n",
    "\n",
    "```\n",
    "Rzeczowniki stanowią [wynik]% słów w zdaniu!\n",
    "```"
   ]
  },
  {
   "cell_type": "markdown",
   "id": "8b3067",
   "metadata": {
    "collapsed": false
   },
   "source": [
    "## 1.2. Struktury danych<a class=\"anchor\" id=\"2\"></a>"
   ]
  },
  {
   "cell_type": "markdown",
   "id": "386465",
   "metadata": {
    "collapsed": false
   },
   "source": [
    "### 1.2.1. Lista i krotka<a class=\"anchor\" id=\"2-1\"></a>"
   ]
  },
  {
   "cell_type": "markdown",
   "id": "33a094",
   "metadata": {
    "collapsed": false
   },
   "source": [
    "<u>Struktury danych</u> umożliwiają <u>przechowywanie</u> danych oraz efektywny sposób wykonywania na nich określonych <u>operacji</u>. Poznaliśmy już jedną ze struktur, czyli <u>listę</u> (**List**). Teraz dokładniej omówimy jej własności i cechy charakterystyczne.\n",
    "\n",
    "---\n",
    "\n",
    "**Przykład**\n",
    "\n",
    "Zdefiniujemy listę zawierającą liczby całkowite\n",
    "\n",
    "$$x = [7,\\, 1,\\, -5,\\, 0,\\, 13,\\, -2,\\, 25,\\, 4,\\, 9 ]$$\n",
    "\n",
    "---\n",
    "\n",
    "Często będziemy stosowali poniższą konstrukcję – definiujemy obiekt, wykonujemy na nim operacje, a na koniec wypisujemy, aby zobaczyć efekty"
   ]
  },
  {
   "cell_type": "code",
   "execution_count": 41,
   "id": "264d22",
   "metadata": {
    "collapsed": false
   },
   "outputs": [
    {
     "data": {
      "text/plain": [
       "[7, 1, -5, 0, 13, -2, 25, 4, 9]"
      ]
     },
     "execution_count": 41,
     "metadata": {
     },
     "output_type": "execute_result"
    }
   ],
   "source": [
    "x = [7, 1, -5, 0, 13, -2, 25, 4, 9]\n",
    "x"
   ]
  },
  {
   "cell_type": "markdown",
   "id": "af0203",
   "metadata": {
    "collapsed": false
   },
   "source": [
    "Lista w **Pythonie** jest:\n",
    "\n",
    "1. <u>Dynamiczna</u> – nie musimy określać jej długości, zaś <u>długość listy może ulegać zmianie</u> poprzez dodawanie i usuwanie elementów.\n",
    "\n",
    "---\n",
    "\n",
    "Element na końcu listy dodajemy za pomocą funkcji **append()** – jest to przykład polecenia, które <u>modyfikuje</u> wejściową listę"
   ]
  },
  {
   "cell_type": "code",
   "execution_count": 42,
   "id": "19d35d",
   "metadata": {
    "collapsed": false
   },
   "outputs": [
    {
     "data": {
      "text/plain": [
       "[7, 1, -5, 0, 13, -2, 25, 4, 9, 16]"
      ]
     },
     "execution_count": 42,
     "metadata": {
     },
     "output_type": "execute_result"
    }
   ],
   "source": [
    "x.append(16)\n",
    "x"
   ]
  },
  {
   "cell_type": "markdown",
   "id": "bfdcd5",
   "metadata": {
    "collapsed": false
   },
   "source": [
    "Ostatni element usuwamy, korzystając z funkcji **pop()**. Polecenie to dodatkowo zwraca usuwany element"
   ]
  },
  {
   "cell_type": "code",
   "execution_count": 43,
   "id": "f17425",
   "metadata": {
    "collapsed": false
   },
   "outputs": [
    {
     "data": {
      "text/plain": [
       "[7, 1, -5, 0, 13, -2, 25, 4, 9]"
      ]
     },
     "execution_count": 43,
     "metadata": {
     },
     "output_type": "execute_result"
    }
   ],
   "source": [
    "x.pop()\n",
    "x"
   ]
  },
  {
   "cell_type": "markdown",
   "id": "4b07da",
   "metadata": {
    "collapsed": false
   },
   "source": [
    "Funkcja **insert()** dodaje wskazany element na wybranej pozycji"
   ]
  },
  {
   "cell_type": "code",
   "execution_count": 44,
   "id": "699198",
   "metadata": {
    "collapsed": false
   },
   "outputs": [
    {
     "data": {
      "text/plain": [
       "[7, -18, 1, -5, 0, 13, -2, 25, 4, 9]"
      ]
     },
     "execution_count": 44,
     "metadata": {
     },
     "output_type": "execute_result"
    }
   ],
   "source": [
    "x.insert(1, -18)\n",
    "x"
   ]
  },
  {
   "cell_type": "markdown",
   "id": "c0bf41",
   "metadata": {
    "collapsed": false
   },
   "source": [
    "2. <u>Heterogeniczna</u> – może przechowywać elementy <u>różnych typów</u> (np. **int**, **str** itp.), chociaż zazwyczaj wykorzystujemy tylko jeden typ.\n",
    "\n",
    "---\n",
    "\n",
    "Zwróćmy tutaj uwagę, aby <u>nie wprowadzać</u> takich nazw zmiennych jak `list`, `max` itd. W ten sposób <u>nadpisujemy funkcje wbudowane</u>. Od tej pory na przykład rzutowanie na listę nie będzie działać poprawnie. Można to naprawić poprzez **Kernel** → **Restart Kernel**"
   ]
  },
  {
   "cell_type": "code",
   "execution_count": 45,
   "id": "357485",
   "metadata": {
    "collapsed": false
   },
   "outputs": [
    {
     "data": {
      "text/plain": [
       "[12, 3.7, 'analiza', False]"
      ]
     },
     "execution_count": 45,
     "metadata": {
     },
     "output_type": "execute_result"
    }
   ],
   "source": [
    "# list = [1, 2, 3] źle!\n",
    "\n",
    "lista1 = [12, 3.7]\n",
    "lista2 = ['analiza', False]\n",
    "\n",
    "lista1 + lista2"
   ]
  },
  {
   "cell_type": "markdown",
   "id": "a88a94",
   "metadata": {
    "collapsed": false
   },
   "source": [
    "3. <u>Uporządkowana i indeksowana</u> – elementy w liście mają określony porządek, możemy odwoływać się do nich <u>za pomocą indeksów</u>.\n",
    "\n",
    "---\n",
    "\n",
    "Przejdziemy do sposobów <u>segmentacji listy</u>, czyli odwoływania się do jej poszczególnych fragmentów. Sekwencje w **Pythonie** są <u>0-indeksowane</u>, czyli indeks pierwszego elementu to 0.\n",
    "\n",
    "---\n",
    "\n",
    "Stosujemy podobną konwencję, jak w przypadku funkcji **range()** – przedziały są <u>lewostronnie domknięte i prawostronnie otwarte</u>. Możemy wykorzystywać <u>ujemne indeksy</u>, które oznaczają odwoływanie się do elementów <u>od końca listy</u>"
   ]
  },
  {
   "cell_type": "code",
   "execution_count": 46,
   "id": "911762",
   "metadata": {
    "collapsed": false
   },
   "outputs": [
    {
     "data": {
      "text/plain": [
       "7"
      ]
     },
     "execution_count": 46,
     "metadata": {
     },
     "output_type": "execute_result"
    }
   ],
   "source": [
    "# pierwszy element\n",
    "x[0]"
   ]
  },
  {
   "cell_type": "code",
   "execution_count": 47,
   "id": "87d2f1",
   "metadata": {
    "collapsed": false
   },
   "outputs": [
    {
     "data": {
      "text/plain": [
       "-5"
      ]
     },
     "execution_count": 47,
     "metadata": {
     },
     "output_type": "execute_result"
    }
   ],
   "source": [
    "# czwarty element\n",
    "x[3]"
   ]
  },
  {
   "cell_type": "code",
   "execution_count": 48,
   "id": "0827a3",
   "metadata": {
    "collapsed": false
   },
   "outputs": [
    {
     "data": {
      "text/plain": [
       "9"
      ]
     },
     "execution_count": 48,
     "metadata": {
     },
     "output_type": "execute_result"
    }
   ],
   "source": [
    "# pierwszy element od końca\n",
    "x[-1]"
   ]
  },
  {
   "cell_type": "code",
   "execution_count": 49,
   "id": "d6662e",
   "metadata": {
    "collapsed": false
   },
   "outputs": [
    {
     "data": {
      "text/plain": [
       "4"
      ]
     },
     "execution_count": 49,
     "metadata": {
     },
     "output_type": "execute_result"
    }
   ],
   "source": [
    "# drugi element od końca\n",
    "x[-2]"
   ]
  },
  {
   "cell_type": "code",
   "execution_count": 50,
   "id": "bdb2a3",
   "metadata": {
    "collapsed": false
   },
   "outputs": [
    {
     "data": {
      "text/plain": [
       "[7, -18, 1, -5, 0]"
      ]
     },
     "execution_count": 50,
     "metadata": {
     },
     "output_type": "execute_result"
    }
   ],
   "source": [
    "# pięć pierwszych elementów\n",
    "x[:5]"
   ]
  },
  {
   "cell_type": "code",
   "execution_count": 51,
   "id": "98e5e1",
   "metadata": {
    "collapsed": false
   },
   "outputs": [
    {
     "data": {
      "text/plain": [
       "[13, -2, 25, 4, 9]"
      ]
     },
     "execution_count": 51,
     "metadata": {
     },
     "output_type": "execute_result"
    }
   ],
   "source": [
    "# pięć ostatnich elementów\n",
    "x[-5:]"
   ]
  },
  {
   "cell_type": "code",
   "execution_count": 52,
   "id": "e0e486",
   "metadata": {
    "collapsed": false
   },
   "outputs": [
    {
     "data": {
      "text/plain": [
       "[-18, 1, -5]"
      ]
     },
     "execution_count": 52,
     "metadata": {
     },
     "output_type": "execute_result"
    }
   ],
   "source": [
    "# elementy od drugiego do czwartego\n",
    "x[1:4]"
   ]
  },
  {
   "cell_type": "code",
   "execution_count": 53,
   "id": "1ca6c2",
   "metadata": {
    "collapsed": false
   },
   "outputs": [
    {
     "data": {
      "text/plain": [
       "[7, 1, 0, -2, 4]"
      ]
     },
     "execution_count": 53,
     "metadata": {
     },
     "output_type": "execute_result"
    }
   ],
   "source": [
    "# co drugi element o indeksie parzystym\n",
    "x[::2]"
   ]
  },
  {
   "cell_type": "code",
   "execution_count": 54,
   "id": "9e08ab",
   "metadata": {
    "collapsed": false
   },
   "outputs": [
    {
     "data": {
      "text/plain": [
       "[-18, -5, 13, 25, 9]"
      ]
     },
     "execution_count": 54,
     "metadata": {
     },
     "output_type": "execute_result"
    }
   ],
   "source": [
    "# co drugi element o indeksie nieparzystym\n",
    "x[1::2]"
   ]
  },
  {
   "cell_type": "code",
   "execution_count": 55,
   "id": "81ba6c",
   "metadata": {
    "collapsed": false
   },
   "outputs": [
    {
     "data": {
      "text/plain": [
       "[9, 4, 25, -2, 13, 0, -5, 1, -18, 7]"
      ]
     },
     "execution_count": 55,
     "metadata": {
     },
     "output_type": "execute_result"
    }
   ],
   "source": [
    "# lista wypisana od końca\n",
    "x[::-1]"
   ]
  },
  {
   "cell_type": "code",
   "execution_count": 56,
   "id": "5c7fdf",
   "metadata": {
    "collapsed": false
   },
   "outputs": [
    {
     "data": {
      "text/plain": [
       "[-18, 0, 25]"
      ]
     },
     "execution_count": 56,
     "metadata": {
     },
     "output_type": "execute_result"
    }
   ],
   "source": [
    "# elementy od drugiego do ósmego co trzeci element\n",
    "x[1:8:3]"
   ]
  },
  {
   "cell_type": "markdown",
   "id": "da78db",
   "metadata": {
    "collapsed": false
   },
   "source": [
    "4. <u>Mutowalna</u> – możemy <u>modyfikować</u> elementy listy poprzez zmianę jej zawartości bądź dodawanie/usuwanie nowych elementów.\n",
    "\n",
    "---\n",
    "\n",
    "Poniżej zmienimy wartość pierwszego elementu listy na $-3$"
   ]
  },
  {
   "cell_type": "code",
   "execution_count": 57,
   "id": "877a68",
   "metadata": {
    "collapsed": false
   },
   "outputs": [
    {
     "data": {
      "text/plain": [
       "[-3, -18, 1, -5, 0, 13, -2, 25, 4, 9]"
      ]
     },
     "execution_count": 57,
     "metadata": {
     },
     "output_type": "execute_result"
    }
   ],
   "source": [
    "x[0] = -3\n",
    "x"
   ]
  },
  {
   "cell_type": "markdown",
   "id": "a93cfc",
   "metadata": {
    "collapsed": false
   },
   "source": [
    "5. <u>Iterowalna</u> – po elementach listy można <u>iterować w pętli</u>, nie ma konieczności odwoływania się do indeksów jak w innych językach.\n",
    "\n",
    "---\n",
    "\n",
    "Przykład wypisania kolejnych elementów w pętli"
   ]
  },
  {
   "cell_type": "code",
   "execution_count": 58,
   "id": "9d48db",
   "metadata": {
    "collapsed": false
   },
   "outputs": [
    {
     "name": "stdout",
     "output_type": "stream",
     "text": [
      "😀 😁 😆 😇 😉 🙂 🙃 😛 😐 😕 😢 😠 "
     ]
    }
   ],
   "source": [
    "twarze = ['😀', '😁', '😆', '😇', '😉', '🙂', '🙃', '😛', '😐', '😕', '😢', '😠']\n",
    "\n",
    "for twarz in twarze:\n",
    "    print(twarz, end=' ')  # ustawiamy spację na końcu zamiast domyślnej nowej linii"
   ]
  },
  {
   "cell_type": "markdown",
   "id": "ec8b62",
   "metadata": {
    "collapsed": false
   },
   "source": [
    "---\n",
    "\n",
    "Na koniec przeanalizujemy sposoby <u>sortowania listy</u>. Mamy do wyboru dwie funkcje:\n",
    "\n",
    "1. **sorted()** – zwraca posortowaną listę, jednak <u>nie modyfikuje</u> wejściowej listy"
   ]
  },
  {
   "cell_type": "code",
   "execution_count": 59,
   "id": "d7518e",
   "metadata": {
    "collapsed": false
   },
   "outputs": [
    {
     "name": "stdout",
     "output_type": "stream",
     "text": [
      "[-3, -18, 1, -5, 0, 13, -2, 25, 4, 9]\n"
     ]
    },
    {
     "data": {
      "text/plain": [
       "[-18, -5, -3, -2, 0, 1, 4, 9, 13, 25]"
      ]
     },
     "execution_count": 59,
     "metadata": {
     },
     "output_type": "execute_result"
    }
   ],
   "source": [
    "print(x)\n",
    "sorted(x)"
   ]
  },
  {
   "cell_type": "markdown",
   "id": "e19061",
   "metadata": {
    "collapsed": false
   },
   "source": [
    "Sortowanie <u>malejące</u>"
   ]
  },
  {
   "cell_type": "code",
   "execution_count": 60,
   "id": "afcda6",
   "metadata": {
    "collapsed": false
   },
   "outputs": [
    {
     "data": {
      "text/plain": [
       "[25, 13, 9, 4, 1, 0, -2, -3, -5, -18]"
      ]
     },
     "execution_count": 60,
     "metadata": {
     },
     "output_type": "execute_result"
    }
   ],
   "source": [
    "sorted(x, reverse=True)  # albo sorted(x)[::-1]"
   ]
  },
  {
   "cell_type": "markdown",
   "id": "ade107",
   "metadata": {
    "collapsed": false
   },
   "source": [
    "2. **sort()** – <u>zmienia początkową listę</u> (sortuje ją **In-place**) oraz zwraca typ **None** (czyli nic nie zwraca, jest to odpowiednik **NULL** w innych językach)"
   ]
  },
  {
   "cell_type": "code",
   "execution_count": 61,
   "id": "a944f4",
   "metadata": {
    "collapsed": false
   },
   "outputs": [
    {
     "data": {
      "text/plain": [
       "[-18, -5, -3, -2, 0, 1, 4, 9, 13, 25]"
      ]
     },
     "execution_count": 61,
     "metadata": {
     },
     "output_type": "execute_result"
    }
   ],
   "source": [
    "x.sort()\n",
    "x"
   ]
  },
  {
   "cell_type": "markdown",
   "id": "265493",
   "metadata": {
    "collapsed": false
   },
   "source": [
    "Nie wypusujemy `print(x.sort())`, ponieważ w wyniku otrzymamy **None**"
   ]
  },
  {
   "cell_type": "code",
   "execution_count": 62,
   "id": "117d1b",
   "metadata": {
    "collapsed": false
   },
   "outputs": [
    {
     "data": {
      "text/plain": [
       "[25, 13, 9, 4, 1, 0, -2, -3, -5, -18]"
      ]
     },
     "execution_count": 62,
     "metadata": {
     },
     "output_type": "execute_result"
    }
   ],
   "source": [
    "x.sort(reverse=True)\n",
    "x"
   ]
  },
  {
   "cell_type": "markdown",
   "id": "388cd7",
   "metadata": {
    "collapsed": false
   },
   "source": [
    "---\n",
    "\n",
    "<u>Krotka</u> (**Tuple**) wygląda i funkcjonuje podobnie jak lista, jednak jest to struktura <u>bardziej restrykcyjna</u>. W szczególności, w przeciwieństwie do mutowalnej (**Mutable**) listy, elementów krotki <u>nie można modyfikować</u> (**Immutable**). Gdy spróbujemy zmienić zawartość krotki, otrzymamy <u>różowy error</u> (z którym jeszcze wiele razy się spotkamy). Po uzyskaniu błędu <u>na samym dole</u> otrzymujemy stosowny komunikat z informacją o problemie"
   ]
  },
  {
   "cell_type": "code",
   "execution_count": 63,
   "id": "5fa53c",
   "metadata": {
    "collapsed": false
   },
   "outputs": [
    {
     "ename": "TypeError",
     "evalue": "'tuple' object does not support item assignment",
     "output_type": "error",
     "traceback": [
      "\u001b[0;31m---------------------------------------------------------------------------\u001b[0m",
      "\u001b[0;31mTypeError\u001b[0m                                 Traceback (most recent call last)",
      "\u001b[0;32m/tmp/ipykernel_365/1245798926.py\u001b[0m in \u001b[0;36m<cell line: 2>\u001b[0;34m()\u001b[0m\n\u001b[1;32m      1\u001b[0m \u001b[0mkrotka\u001b[0m \u001b[0;34m=\u001b[0m \u001b[0;34m(\u001b[0m\u001b[0;36m1\u001b[0m\u001b[0;34m,\u001b[0m \u001b[0;36m3\u001b[0m\u001b[0;34m,\u001b[0m \u001b[0;36m5\u001b[0m\u001b[0;34m)\u001b[0m\u001b[0;34m\u001b[0m\u001b[0;34m\u001b[0m\u001b[0m\n\u001b[0;32m----> 2\u001b[0;31m \u001b[0mkrotka\u001b[0m\u001b[0;34m[\u001b[0m\u001b[0;36m1\u001b[0m\u001b[0;34m]\u001b[0m \u001b[0;34m=\u001b[0m \u001b[0;36m8\u001b[0m\u001b[0;34m\u001b[0m\u001b[0;34m\u001b[0m\u001b[0m\n\u001b[0m",
      "\u001b[0;31mTypeError\u001b[0m: 'tuple' object does not support item assignment"
     ]
    }
   ],
   "source": [
    "krotka = (1, 3, 5)\n",
    "krotka[1] = 8"
   ]
  },
  {
   "cell_type": "markdown",
   "id": "214404",
   "metadata": {
    "collapsed": false
   },
   "source": [
    "Zawartość krotki (listy również) można <u>rozpakowywać</u> do wielu zmiennych. Czynność tę wykonywaliśmy wcześniej podczas deklacji zmiennych – **Python** traktował wówczas prawą stronę równości jako krotkę:\n",
    "\n",
    "```\n",
    "x, y, z, t = -3, 1.6, 'tekst', True\n",
    "```\n",
    "\n",
    "---\n",
    "\n",
    "Niektóre funkcje zwracają <u>wynik w postaci krotki</u>, który również możemy przypisać do poszczególnych zmiennych. Przeanalizujemy to na przykładzie funkcji **divmod()**, która zwraca jednocześnie wynik dzielenia całkowitego oraz resztę"
   ]
  },
  {
   "cell_type": "code",
   "execution_count": 64,
   "id": "edbb68",
   "metadata": {
    "collapsed": false
   },
   "outputs": [
    {
     "data": {
      "text/plain": [
       "(2, 3)"
      ]
     },
     "execution_count": 64,
     "metadata": {
     },
     "output_type": "execute_result"
    }
   ],
   "source": [
    "# zwaracany jest wynik działań 11 // 4 oraz 11 % 4\n",
    "divmod(11, 4)"
   ]
  },
  {
   "cell_type": "markdown",
   "id": "6276ec",
   "metadata": {
    "collapsed": false
   },
   "source": [
    "Sprawdzamy typ uzyskanego obiektu"
   ]
  },
  {
   "cell_type": "code",
   "execution_count": 65,
   "id": "17a45d",
   "metadata": {
    "collapsed": false
   },
   "outputs": [
    {
     "data": {
      "text/plain": [
       "tuple"
      ]
     },
     "execution_count": 65,
     "metadata": {
     },
     "output_type": "execute_result"
    }
   ],
   "source": [
    "type(divmod(11, 4))"
   ]
  },
  {
   "cell_type": "markdown",
   "id": "4988c8",
   "metadata": {
    "collapsed": false
   },
   "source": [
    "Rozpakowujemy zwracaną zawartość do dwóch zmiennych"
   ]
  },
  {
   "cell_type": "code",
   "execution_count": 66,
   "id": "0e34e3",
   "metadata": {
    "collapsed": false
   },
   "outputs": [
    {
     "name": "stdout",
     "output_type": "stream",
     "text": [
      "Wynik dzielenia całkowitego: 2\n",
      "Reszta: 3\n"
     ]
    }
   ],
   "source": [
    "iloraz, reszta = divmod(11, 4)\n",
    "\n",
    "print('Wynik dzielenia całkowitego:', iloraz)\n",
    "print('Reszta:', reszta)"
   ]
  },
  {
   "cell_type": "markdown",
   "id": "ca4c8d",
   "metadata": {
    "collapsed": false
   },
   "source": [
    "----\n",
    "\n",
    "Zobaczmy jeszcze, w jaki sposób możemy skorzystać z danej funkcji, gdy mamy dane jej <u>argumenty w postaci krotki</u>. Przykładowo, funkcja **range()** oczekuje, że zastosujemy składnię `range(start, stop, krok)`. Są to tzw. <u>argumenty pozycyjne</u> (**Positional Arguments**) – istotna jest ich kolejność.\n",
    "\n",
    "---\n",
    "\n",
    "Dla zmiennej `argumenty = (1, 9, 2)` nie możemy napisać `range(argumenty)`, ponieważ wtedy funkcja **range()** zrozumie, że otrzymuje <u>jeden argument w postaci krotki</u>, a nie <u>trzy osobne liczby całkowite</u>. Aby sobie z tym poradzić, możemy rozpakować krotkę za pomocą <u>gwiazdki</u>"
   ]
  },
  {
   "cell_type": "code",
   "execution_count": 67,
   "id": "bad6be",
   "metadata": {
    "collapsed": false
   },
   "outputs": [
    {
     "data": {
      "text/plain": [
       "[1, 3, 5, 7]"
      ]
     },
     "execution_count": 67,
     "metadata": {
     },
     "output_type": "execute_result"
    }
   ],
   "source": [
    "# argumenty pozycyjne – *args\n",
    "argumenty = (1, 9, 2)\n",
    "list(range(*argumenty))"
   ]
  },
  {
   "cell_type": "markdown",
   "id": "89c970",
   "metadata": {
    "collapsed": false
   },
   "source": [
    "### 1.2.2. Słownik i zbiór<a class=\"anchor\" id=\"2-2\"></a>"
   ]
  },
  {
   "cell_type": "markdown",
   "id": "a01d16",
   "metadata": {
    "collapsed": false
   },
   "source": [
    "<u>Słownik</u> (**Dictionary**) to struktura danych, która przechowuje <u>pary klucz-wartość</u>. Klucze są <u>unikalne</u> i służą do identyfikacji wartości w słowniku.\n",
    "\n",
    "---\n",
    "\n",
    "**Przykład**\n",
    "\n",
    "Zdefiniujemy słownik\n",
    "\n",
    "$$\\text{slownik} = \\{ \\text{'jeden': } 1,\\ \\text{'dwa': } 2,\\ \\text{'trzy': } 3,\\ \\text{'cztery': } 4 \\}$$"
   ]
  },
  {
   "cell_type": "code",
   "execution_count": 68,
   "id": "7ea826",
   "metadata": {
    "collapsed": false
   },
   "outputs": [
   ],
   "source": [
    "slownik = {'jeden': 1, 'dwa': 2, 'trzy': 3, 'cztery': 4}"
   ]
  },
  {
   "cell_type": "markdown",
   "id": "13d7cd",
   "metadata": {
    "collapsed": false
   },
   "source": [
    "Do poszczególnych <u>wartości</u> możemy się odwoływać za pomocą <u>kluczy</u> umieszczonych w nawiasach kwadratowych"
   ]
  },
  {
   "cell_type": "code",
   "execution_count": 69,
   "id": "d3379b",
   "metadata": {
    "collapsed": false
   },
   "outputs": [
    {
     "name": "stdout",
     "output_type": "stream",
     "text": [
      "1\n",
      "3\n"
     ]
    }
   ],
   "source": [
    "print(slownik['jeden'])\n",
    "print(slownik['trzy'])"
   ]
  },
  {
   "cell_type": "markdown",
   "id": "ba50e8",
   "metadata": {
    "collapsed": false
   },
   "source": [
    "Dostęp do kluczy słownika uzyskujemy za pomocą funkcji **keys()**"
   ]
  },
  {
   "cell_type": "code",
   "execution_count": 70,
   "id": "f1be22",
   "metadata": {
    "collapsed": false
   },
   "outputs": [
    {
     "data": {
      "text/plain": [
       "dict_keys(['jeden', 'dwa', 'trzy', 'cztery'])"
      ]
     },
     "execution_count": 70,
     "metadata": {
     },
     "output_type": "execute_result"
    }
   ],
   "source": [
    "klucze = slownik.keys()\n",
    "klucze"
   ]
  },
  {
   "cell_type": "markdown",
   "id": "86a3a1",
   "metadata": {
    "collapsed": false
   },
   "source": [
    "Wartości otrzymujemy przy użyciu funkcji **values()**"
   ]
  },
  {
   "cell_type": "code",
   "execution_count": 71,
   "id": "699607",
   "metadata": {
    "collapsed": false
   },
   "outputs": [
    {
     "data": {
      "text/plain": [
       "dict_values([1, 2, 3, 4])"
      ]
     },
     "execution_count": 71,
     "metadata": {
     },
     "output_type": "execute_result"
    }
   ],
   "source": [
    "wartosci = slownik.values()\n",
    "wartosci"
   ]
  },
  {
   "cell_type": "markdown",
   "id": "2bdf3a",
   "metadata": {
    "collapsed": false
   },
   "source": [
    "Jednak gdy chcemy uzyskać pierwszy element obiektu `klucze`, mamy następujący błąd"
   ]
  },
  {
   "cell_type": "code",
   "execution_count": 72,
   "id": "a771e7",
   "metadata": {
    "collapsed": false
   },
   "outputs": [
    {
     "ename": "TypeError",
     "evalue": "'dict_keys' object is not subscriptable",
     "output_type": "error",
     "traceback": [
      "\u001b[0;31m---------------------------------------------------------------------------\u001b[0m",
      "\u001b[0;31mTypeError\u001b[0m                                 Traceback (most recent call last)",
      "\u001b[0;32m/tmp/ipykernel_365/3729199214.py\u001b[0m in \u001b[0;36m<cell line: 1>\u001b[0;34m()\u001b[0m\n\u001b[0;32m----> 1\u001b[0;31m \u001b[0mklucze\u001b[0m\u001b[0;34m[\u001b[0m\u001b[0;36m0\u001b[0m\u001b[0;34m]\u001b[0m\u001b[0;34m\u001b[0m\u001b[0;34m\u001b[0m\u001b[0m\n\u001b[0m",
      "\u001b[0;31mTypeError\u001b[0m: 'dict_keys' object is not subscriptable"
     ]
    }
   ],
   "source": [
    "klucze[0]"
   ]
  },
  {
   "cell_type": "markdown",
   "id": "f34fe1",
   "metadata": {
    "collapsed": false
   },
   "source": [
    "Jeżeli tak się dzieje (bądź gdy po wypisaniu uzyskujemy dziwny wynik np. <zip object at 0x14619d490380>), zazwyczaj mamy do czynienia z obiektem podobnym do generatora. Wówczas, aby zobaczyć ten obiekt lub wykonać na nim operacje z wykorzystaniem indeksów, wystarczy <u>zrzutować go na typ listy</u>"
   ]
  },
  {
   "cell_type": "code",
   "execution_count": 73,
   "id": "454894",
   "metadata": {
    "collapsed": false
   },
   "outputs": [
    {
     "name": "stdout",
     "output_type": "stream",
     "text": [
      "['jeden', 'dwa', 'trzy', 'cztery']\n"
     ]
    },
    {
     "data": {
      "text/plain": [
       "'jeden'"
      ]
     },
     "execution_count": 73,
     "metadata": {
     },
     "output_type": "execute_result"
    }
   ],
   "source": [
    "klucze = list(klucze)\n",
    "\n",
    "print(klucze)\n",
    "klucze[0]"
   ]
  },
  {
   "cell_type": "markdown",
   "id": "9051b2",
   "metadata": {
    "collapsed": false
   },
   "source": [
    "Analogicznie, jeżeli chcemy uzyskać dostęp do konkretnych wartości, stosujemy następujące rzutowanie"
   ]
  },
  {
   "cell_type": "code",
   "execution_count": 74,
   "id": "bebe83",
   "metadata": {
    "collapsed": false
   },
   "outputs": [
    {
     "data": {
      "text/plain": [
       "[1, 2, 3]"
      ]
     },
     "execution_count": 74,
     "metadata": {
     },
     "output_type": "execute_result"
    }
   ],
   "source": [
    "list(wartosci)[:3]"
   ]
  },
  {
   "cell_type": "markdown",
   "id": "5939da",
   "metadata": {
    "collapsed": false
   },
   "source": [
    "W celu uzyskania dostępu zarówno do kluczy i wartości danego słownika, korzystamy z funkcji **items()**"
   ]
  },
  {
   "cell_type": "code",
   "execution_count": 75,
   "id": "d2e049",
   "metadata": {
    "collapsed": false
   },
   "outputs": [
    {
     "data": {
      "text/plain": [
       "dict_items([('jeden', 1), ('dwa', 2), ('trzy', 3), ('cztery', 4)])"
      ]
     },
     "execution_count": 75,
     "metadata": {
     },
     "output_type": "execute_result"
    }
   ],
   "source": [
    "elementy = slownik.items()\n",
    "elementy"
   ]
  },
  {
   "cell_type": "markdown",
   "id": "ca3292",
   "metadata": {
    "collapsed": false
   },
   "source": [
    "Do istniejącego słownika możemy dodawać nowe elementy"
   ]
  },
  {
   "cell_type": "code",
   "execution_count": 76,
   "id": "b5de8b",
   "metadata": {
    "collapsed": false
   },
   "outputs": [
    {
     "data": {
      "text/plain": [
       "{'jeden': 1, 'dwa': 2, 'trzy': 3, 'cztery': 4, 'siedem': 7}"
      ]
     },
     "execution_count": 76,
     "metadata": {
     },
     "output_type": "execute_result"
    }
   ],
   "source": [
    "slownik['siedem'] = 7\n",
    "slownik"
   ]
  },
  {
   "cell_type": "markdown",
   "id": "d82e53",
   "metadata": {
    "collapsed": false
   },
   "source": [
    "Mamy również możliwość ich <u>nadpisywania</u>"
   ]
  },
  {
   "cell_type": "code",
   "execution_count": 77,
   "id": "874d1b",
   "metadata": {
    "collapsed": false
   },
   "outputs": [
    {
     "data": {
      "text/plain": [
       "{'jeden': 1, 'dwa': 2, 'trzy': 13, 'cztery': 4, 'siedem': 7}"
      ]
     },
     "execution_count": 77,
     "metadata": {
     },
     "output_type": "execute_result"
    }
   ],
   "source": [
    "slownik['trzy'] = 13\n",
    "slownik"
   ]
  },
  {
   "cell_type": "markdown",
   "id": "95a279",
   "metadata": {
    "collapsed": false
   },
   "source": [
    "Oraz usuwania"
   ]
  },
  {
   "cell_type": "code",
   "execution_count": 78,
   "id": "df81c0",
   "metadata": {
    "collapsed": false
   },
   "outputs": [
    {
     "data": {
      "text/plain": [
       "{'jeden': 1, 'dwa': 2, 'trzy': 13, 'cztery': 4}"
      ]
     },
     "execution_count": 78,
     "metadata": {
     },
     "output_type": "execute_result"
    }
   ],
   "source": [
    "slownik.pop('siedem')\n",
    "slownik"
   ]
  },
  {
   "cell_type": "markdown",
   "id": "c0072d",
   "metadata": {
    "collapsed": false
   },
   "source": [
    "Jeżeli w słowniku nie ma żądanego klucza, otrzymujemy poniższy błąd"
   ]
  },
  {
   "cell_type": "code",
   "execution_count": 79,
   "id": "8ba44f",
   "metadata": {
    "collapsed": false
   },
   "outputs": [
    {
     "ename": "KeyError",
     "evalue": "'zero'",
     "output_type": "error",
     "traceback": [
      "\u001b[0;31m---------------------------------------------------------------------------\u001b[0m",
      "\u001b[0;31mKeyError\u001b[0m                                  Traceback (most recent call last)",
      "\u001b[0;32m/tmp/ipykernel_365/3423703829.py\u001b[0m in \u001b[0;36m<cell line: 1>\u001b[0;34m()\u001b[0m\n\u001b[0;32m----> 1\u001b[0;31m \u001b[0mslownik\u001b[0m\u001b[0;34m[\u001b[0m\u001b[0;34m'zero'\u001b[0m\u001b[0;34m]\u001b[0m\u001b[0;34m\u001b[0m\u001b[0;34m\u001b[0m\u001b[0m\n\u001b[0m",
      "\u001b[0;31mKeyError\u001b[0m: 'zero'"
     ]
    }
   ],
   "source": [
    "slownik['zero']"
   ]
  },
  {
   "cell_type": "markdown",
   "id": "711923",
   "metadata": {
    "collapsed": false
   },
   "source": [
    "Dlatego przy korzystaniu ze słownika często użyteczna jest funkcja **get()**, która zwraca przekazaną <u>wartość domyślną</u> (tutaj 0), jeżeli wartość dla wskazanego klucza nie istnieje"
   ]
  },
  {
   "cell_type": "code",
   "execution_count": 80,
   "id": "a5cfe5",
   "metadata": {
    "collapsed": false
   },
   "outputs": [
    {
     "data": {
      "text/plain": [
       "0"
      ]
     },
     "execution_count": 80,
     "metadata": {
     },
     "output_type": "execute_result"
    }
   ],
   "source": [
    "slownik.get('zero', 0)"
   ]
  },
  {
   "cell_type": "markdown",
   "id": "59621f",
   "metadata": {
    "collapsed": false
   },
   "source": [
    "----\n",
    "\n",
    "Przeanalizujmy, w jaki sposób możemy skorzystać z danej funkcji, gdy mamy dane jej <u>argumenty w postaci słownika</u>. Przykładowo, funkcja **print()** umożliwia nam&nbsp;określenie separatora (np. `sep=' - '`) oraz zakończenia (np. `end='!'`). Są to tzw. <u>argumenty nazwane</u> (**Keyword Arguments**) – możemy przekazać je w&nbsp;dowolnym miejscu za pomocą nazwy.\n",
    "\n",
    "---\n",
    "\n",
    "Dla zmiennej `argumenty = {'sep': ' - ', 'end': '!'}` nie możemy napisać `print('tekst', argumenty)`, ponieważ wtedy funkcja **print()** zrozumie, że otrzymuje <u>drugi argument w postaci słownika</u>. Aby zastosować odpowiednie nazwy wewnątrz funkcji, możemy rozpakować słownik za pomocą <u>dwóch gwiazdek</u>"
   ]
  },
  {
   "cell_type": "code",
   "execution_count": 81,
   "id": "f03ad2",
   "metadata": {
    "collapsed": false
   },
   "outputs": [
    {
     "name": "stdout",
     "output_type": "stream",
     "text": [
      "Jan - Kowalski - 25!"
     ]
    }
   ],
   "source": [
    "# argumenty nazwane – **kwargs\n",
    "argumenty = {'sep': ' - ', 'end': '!'}\n",
    "print('Jan', 'Kowalski', '25', **argumenty)"
   ]
  },
  {
   "cell_type": "markdown",
   "id": "47ad8c",
   "metadata": {
    "collapsed": false
   },
   "source": [
    "---\n",
    "\n",
    "<u>Zbiór</u> (**Set**) w języku **Python** rozumiemy podobnie jak w matematyce – czyli jako <u>kolekcję unikalnych elementów</u>. Jego zasada funkcjonowania przypomina słownik składający się z samych kluczy (bez wartości)"
   ]
  },
  {
   "cell_type": "code",
   "execution_count": 82,
   "id": "2495df",
   "metadata": {
    "collapsed": false
   },
   "outputs": [
    {
     "data": {
      "text/plain": [
       "{1, 2, 4, 5}"
      ]
     },
     "execution_count": 82,
     "metadata": {
     },
     "output_type": "execute_result"
    }
   ],
   "source": [
    "lista = [1, 1, 1, 2, 2, 4, 5, 5]\n",
    "\n",
    "# przykład rzutowania listy na zbiór\n",
    "zbior = set(lista)\n",
    "zbior"
   ]
  },
  {
   "cell_type": "markdown",
   "id": "3f755b",
   "metadata": {
    "collapsed": false
   },
   "source": [
    "Nowe elementy dodajemy do zbioru za pomocą funkcji **add()**"
   ]
  },
  {
   "cell_type": "code",
   "execution_count": 83,
   "id": "5b3df2",
   "metadata": {
    "collapsed": false
   },
   "outputs": [
    {
     "data": {
      "text/plain": [
       "{1, 2, 4, 5, 7}"
      ]
     },
     "execution_count": 83,
     "metadata": {
     },
     "output_type": "execute_result"
    }
   ],
   "source": [
    "zbior.add(7)\n",
    "zbior"
   ]
  },
  {
   "cell_type": "markdown",
   "id": "d3a03d",
   "metadata": {
    "collapsed": false
   },
   "source": [
    "Na obiektach typu **set** możemy wykonywać operacje analogiczne do <u>działań na zbiorach</u>:\n",
    "\n",
    "1. <u>Suma zbiorów</u> $A$ i $B$ – $A \\cup B$"
   ]
  },
  {
   "cell_type": "code",
   "execution_count": 84,
   "id": "8315f7",
   "metadata": {
    "collapsed": false
   },
   "outputs": [
    {
     "data": {
      "text/plain": [
       "{1, 2, 3, 5}"
      ]
     },
     "execution_count": 84,
     "metadata": {
     },
     "output_type": "execute_result"
    }
   ],
   "source": [
    "A = {1, 2, 3}\n",
    "B = {1, 2, 5}\n",
    "\n",
    "A | B"
   ]
  },
  {
   "cell_type": "markdown",
   "id": "11d7fd",
   "metadata": {
    "collapsed": false
   },
   "source": [
    "2. <u>Różnica zbiorów</u> $A$ i $B$ – $A \\setminus B$"
   ]
  },
  {
   "cell_type": "code",
   "execution_count": 85,
   "id": "feef50",
   "metadata": {
    "collapsed": false
   },
   "outputs": [
    {
     "data": {
      "text/plain": [
       "{3}"
      ]
     },
     "execution_count": 85,
     "metadata": {
     },
     "output_type": "execute_result"
    }
   ],
   "source": [
    "A - B"
   ]
  },
  {
   "cell_type": "markdown",
   "id": "85e186",
   "metadata": {
    "collapsed": false
   },
   "source": [
    "3. <u>Część wspólna</u> (iloczyn, przekrój) zbiorów $A$ i $B$ – $A \\cap B$"
   ]
  },
  {
   "cell_type": "code",
   "execution_count": 86,
   "id": "e19a7e",
   "metadata": {
    "collapsed": false
   },
   "outputs": [
    {
     "data": {
      "text/plain": [
       "{1, 2}"
      ]
     },
     "execution_count": 86,
     "metadata": {
     },
     "output_type": "execute_result"
    }
   ],
   "source": [
    "A & B"
   ]
  },
  {
   "cell_type": "markdown",
   "id": "c43643",
   "metadata": {
    "collapsed": false
   },
   "source": [
    "Zbiór możemy też wykorzystać do <u>usuwania duplikatów</u> z danej listy"
   ]
  },
  {
   "cell_type": "code",
   "execution_count": 87,
   "id": "b1524d",
   "metadata": {
    "collapsed": false
   },
   "outputs": [
    {
     "data": {
      "text/plain": [
       "[0, 1, 3, 4, 6, 7]"
      ]
     },
     "execution_count": 87,
     "metadata": {
     },
     "output_type": "execute_result"
    }
   ],
   "source": [
    "lista = [1, 3, 4, 3, 1, 0, 6, 0, 3, 3, 4, 7, 6, 0, 1, 4, 1, 3]\n",
    "\n",
    "list(set(lista))"
   ]
  },
  {
   "cell_type": "markdown",
   "id": "762caa",
   "metadata": {
    "collapsed": false
   },
   "source": [
    "----\n",
    "\n",
    "Główną zaletą zbiorów (oraz słowników) jest możliwość ich przeszukiwania w <u>stałym czasie</u> (czyli szybko, natychmiastowo). Wykorzystujemy w tym celu operator **in**. W ten sposób możemy też sprawdzać obecność elementu w liście bądź krotce – jednak wówczas przeprowadzamy to w <u>czasie liniowym</u>, ponieważ musimy wykonać sprawdzenie dla każdego elementu osobno.\n",
    "\n",
    "---\n",
    "\n",
    "Ta własność zbiorów i słowników jest szczególnie przydatna, gdy mamy <u>zagnieżdżone pętle</u> (każda pętla kosztuje <u>czas liniowy</u>, więc dwie zagnieżdżone – <u>czas kwadratowy</u> itd.). Wówczas wykorzystanie tych struktur znacznie przyspiesza działanie programu"
   ]
  },
  {
   "cell_type": "code",
   "execution_count": 88,
   "id": "f9570e",
   "metadata": {
    "collapsed": false
   },
   "outputs": [
    {
     "name": "stdout",
     "output_type": "stream",
     "text": [
      "True\n",
      "False\n"
     ]
    }
   ],
   "source": [
    "print(1 in A)\n",
    "print(3 in B)"
   ]
  },
  {
   "cell_type": "markdown",
   "id": "32dbdb",
   "metadata": {
    "collapsed": false
   },
   "source": [
    "**Zadanie 1.2**\n",
    "\n",
    "a) Przypisz do zmiennej <u>listę zawierającą 7 liczb całkowitych</u>! Następnie:\n",
    "\n",
    "* znajdź <u>sumę pierwszego i ostatniego</u> elementu listy;\n",
    "* oblicz różnicę między <u>największym a najmniejszym</u> elementem;\n",
    "* <u>dodaj na końcu</u> listy wartość 10, a następnie wypisz jej <u>3 ostatnie elementy</u>.\n",
    "\n",
    "---\n",
    "\n",
    "b) Utwórz <u>słownik złożony z 5 elementów</u>! Wtedy:\n",
    "\n",
    "* <u>zmień wartość przypisaną</u> do dowolnego istniejącego klucza;\n",
    "* <u>dodaj nową wartość</u> do słownika;\n",
    "* <u>usuń wybraną parę</u> klucz-wartość."
   ]
  },
  {
   "cell_type": "markdown",
   "id": "616ba8",
   "metadata": {
    "collapsed": false
   },
   "source": [
    "## 1.3. Sterowanie programem<a class=\"anchor\" id=\"3\"></a>"
   ]
  },
  {
   "cell_type": "markdown",
   "id": "729840",
   "metadata": {
    "collapsed": false
   },
   "source": [
    "### 1.3.1. Instrukcje warunkowe<a class=\"anchor\" id=\"3-1\"></a>"
   ]
  },
  {
   "cell_type": "markdown",
   "id": "1b6dec",
   "metadata": {
    "collapsed": false
   },
   "source": [
    "<u>Instrukcje warunkowe</u> (**Conditional Expressions**) to konstrukcje pozwalające wykonywać różne <u>bloki kodu</u> w zależności od spełnienia określonych <u>warunków logicznych</u>. W języku **Python** do oznaczenia bloków nie stosujemy klamer, lecz <u>wcięcia</u> (tabulator bądź 4 spacje). Najbardziej typowa jest instrukcja **if-else**"
   ]
  },
  {
   "cell_type": "code",
   "execution_count": 89,
   "id": "a109cc",
   "metadata": {
    "collapsed": false
   },
   "outputs": [
    {
     "name": "stdout",
     "output_type": "stream",
     "text": [
      "Masz ukończone 18 lat!\n"
     ]
    }
   ],
   "source": [
    "wiek = 19\n",
    "\n",
    "if wiek < 18:\n",
    "    print('Nie masz ukończonych 18 lat!')\n",
    "else:\n",
    "    print('Masz ukończone 18 lat!')"
   ]
  },
  {
   "cell_type": "markdown",
   "id": "8d4959",
   "metadata": {
    "collapsed": false
   },
   "source": [
    "Można łączyć kilka warunków <u>spójnikami</u> **and** bądź **or**"
   ]
  },
  {
   "cell_type": "code",
   "execution_count": 90,
   "id": "f62b19",
   "metadata": {
    "collapsed": false
   },
   "outputs": [
    {
     "name": "stdout",
     "output_type": "stream",
     "text": [
      "Liczba 16 jest dodatnia i parzysta!\n"
     ]
    }
   ],
   "source": [
    "liczba = 16\n",
    "\n",
    "if liczba > 0 and liczba % 2 == 0:\n",
    "    print(f'Liczba {liczba} jest dodatnia i parzysta!')"
   ]
  },
  {
   "cell_type": "markdown",
   "id": "de336a",
   "metadata": {
    "collapsed": false
   },
   "source": [
    "Przeanalizujmy jeszcze instrukcję **elif**. Jest ona sprawdzana, gdy żaden z wyżej występujących warunków <u>nie został spełniony</u>. Zauważmy, że w języku **Python** dostępne są <u>podwójne nierówności</u>"
   ]
  },
  {
   "cell_type": "code",
   "execution_count": 91,
   "id": "d78db5",
   "metadata": {
    "collapsed": false
   },
   "outputs": [
    {
     "data": {
      "text/plain": [
       "4.5"
      ]
     },
     "execution_count": 91,
     "metadata": {
     },
     "output_type": "execute_result"
    }
   ],
   "source": [
    "punkty = 32\n",
    "\n",
    "if punkty < 20:\n",
    "    ocena = 2.0\n",
    "elif 20 <= punkty < 24:\n",
    "    ocena = 3.0\n",
    "elif 24 <= punkty < 28:\n",
    "    ocena = 3.5\n",
    "elif 28 <= punkty < 32:\n",
    "    ocena = 4.0\n",
    "elif 32 <= punkty < 36:\n",
    "    ocena = 4.5\n",
    "else:\n",
    "    ocena = 5.0\n",
    "\n",
    "ocena"
   ]
  },
  {
   "cell_type": "markdown",
   "id": "0c1077",
   "metadata": {
    "collapsed": false
   },
   "source": [
    "Możemy wykorzystać <u>zapis skrócony</u> (tzw. **Ternary Condition**)"
   ]
  },
  {
   "cell_type": "code",
   "execution_count": 92,
   "id": "183bc8",
   "metadata": {
    "collapsed": false
   },
   "outputs": [
    {
     "data": {
      "text/plain": [
       "'osoba pełnoletnia'"
      ]
     },
     "execution_count": 92,
     "metadata": {
     },
     "output_type": "execute_result"
    }
   ],
   "source": [
    "wiek = 19\n",
    "\n",
    "status = 'osoba pełnoletnia' if wiek >= 18 else 'osoba nieletnia'\n",
    "status"
   ]
  },
  {
   "cell_type": "markdown",
   "id": "7cc841",
   "metadata": {
    "collapsed": false
   },
   "source": [
    "### 1.3.2. Pętle<a class=\"anchor\" id=\"3-2\"></a>"
   ]
  },
  {
   "cell_type": "markdown",
   "id": "502bce",
   "metadata": {
    "collapsed": false
   },
   "source": [
    "<u>Pętla</u> (**Loop**) to konstrukcja umożliwiająca <u>wielokrotne wykonywanie powtarzalnych operacji</u>. Najczęściej stosowana jest pętla **for**, która pozwala iterować zarówno po indeksach, jak i po elementach określonej (<u>iterowalnej</u>) struktury. Rozpoczniemy od pętli, która <u>iteruje po indeksach</u> i wypisuje poszczególne elementy danej listy"
   ]
  },
  {
   "cell_type": "code",
   "execution_count": 93,
   "id": "4e94a5",
   "metadata": {
    "collapsed": false
   },
   "outputs": [
    {
     "name": "stdout",
     "output_type": "stream",
     "text": [
      "algebra\n",
      "analiza\n",
      "programowanie\n"
     ]
    }
   ],
   "source": [
    "lista = ['algebra', 'analiza', 'programowanie']\n",
    "\n",
    "# len(lista) = 3, więc iterujemy po range(3), czyli w efekcie po [0, 1, 2] – w kolejnych iteracjach i=0, i=1 oraz i=2\n",
    "for i in range(len(lista)):\n",
    "    print(lista[i])  # w pierwszej iteracji wypisujemy lista[0], czyli 'algebra', następnie lista[1] itd."
   ]
  },
  {
   "cell_type": "markdown",
   "id": "4f7f2f",
   "metadata": {
    "collapsed": false
   },
   "source": [
    "Powyższy sposób iteracji po indeksach wykorzystywany jest w większości języków programowania, natomiast **Python** umożliwia nam dodatkowy sposób <u>iteracji po elementach</u> danego obiektu. Zapiszemy powyższy kod, korzystając z tej możliwości"
   ]
  },
  {
   "cell_type": "code",
   "execution_count": 94,
   "id": "81038c",
   "metadata": {
    "collapsed": false
   },
   "outputs": [
    {
     "name": "stdout",
     "output_type": "stream",
     "text": [
      "algebra\n",
      "analiza\n",
      "programowanie\n"
     ]
    }
   ],
   "source": [
    "for x in lista:\n",
    "    print(x)"
   ]
  },
  {
   "cell_type": "markdown",
   "id": "7aa0d2",
   "metadata": {
    "collapsed": false
   },
   "source": [
    "Jeżeli będą nam potrzebne indeksy poszczególnych elementów listy, możemy zastosować konstrukcję **enumerate()**. Zwraca ona krotkę złożoną z <u>indeksu</u> oraz <u>elementu</u>. W ten sposób możemy <u>rozpakować jej zawartość</u> do dwóch zmiennych, po których iterujemy"
   ]
  },
  {
   "cell_type": "code",
   "execution_count": 95,
   "id": "5c0a84",
   "metadata": {
    "collapsed": false
   },
   "outputs": [
    {
     "name": "stdout",
     "output_type": "stream",
     "text": [
      "Przedmiot nr 1: algebra!\n",
      "Przedmiot nr 2: analiza!\n",
      "Przedmiot nr 3: programowanie!\n"
     ]
    }
   ],
   "source": [
    "for indeks, element in enumerate(lista, start=1):  # argument start określa początkowy indeks, domyślnie jest to 0\n",
    "    print(f'Przedmiot nr {indeks}: {element}!')"
   ]
  },
  {
   "cell_type": "markdown",
   "id": "586c94",
   "metadata": {
    "collapsed": false
   },
   "source": [
    "Analogicznie można iterować po elementach słownika"
   ]
  },
  {
   "cell_type": "code",
   "execution_count": 96,
   "id": "55fe36",
   "metadata": {
    "collapsed": false
   },
   "outputs": [
    {
     "name": "stdout",
     "output_type": "stream",
     "text": [
      "Klucz: Imię     | Wartość: Jan\n",
      "Klucz: Nazwisko | Wartość: Kowalski\n",
      "Klucz: Wiek     | Wartość: 25\n"
     ]
    }
   ],
   "source": [
    "slownik = {\n",
    "    'Imię': 'Jan',\n",
    "    'Nazwisko': 'Kowalski',\n",
    "    'Wiek': 25\n",
    "}\n",
    "\n",
    "for key, value in slownik.items():\n",
    "    print('Klucz:', key.ljust(8), '|', 'Wartość:', value)"
   ]
  },
  {
   "cell_type": "markdown",
   "id": "90556b",
   "metadata": {
    "collapsed": false
   },
   "source": [
    "Alternatywnie można iterować po samych kluczach"
   ]
  },
  {
   "cell_type": "code",
   "execution_count": 97,
   "id": "2316aa",
   "metadata": {
    "collapsed": false
   },
   "outputs": [
    {
     "name": "stdout",
     "output_type": "stream",
     "text": [
      "Klucz: Imię, wartość: Jan!\n",
      "Klucz: Nazwisko, wartość: Kowalski!\n",
      "Klucz: Wiek, wartość: 25!\n"
     ]
    }
   ],
   "source": [
    "for key in slownik:\n",
    "    print(f'Klucz: {key}, wartość: {slownik[key]}!')"
   ]
  },
  {
   "cell_type": "markdown",
   "id": "733285",
   "metadata": {
    "collapsed": false
   },
   "source": [
    "---\n",
    "\n",
    "<u>Lista składana</u> (**List Comprehension**) umożliwia tworzenie nowej listy bez konieczności korzystania z wielolinijkowej instrukcji **for**. Załóżmy, że chcemy pomnożyć każdy element danej listy przez 2. Za pomocą instrukcji **for** możemy to zrobić następująco"
   ]
  },
  {
   "cell_type": "code",
   "execution_count": 98,
   "id": "186439",
   "metadata": {
    "collapsed": false
   },
   "outputs": [
    {
     "data": {
      "text/plain": [
       "[2, 4, 6, 8]"
      ]
     },
     "execution_count": 98,
     "metadata": {
     },
     "output_type": "execute_result"
    }
   ],
   "source": [
    "lista = [1, 2, 3, 4]\n",
    "nowa_lista = []\n",
    "\n",
    "for num in lista:\n",
    "    nowa_lista.append(2 * num)\n",
    "\n",
    "nowa_lista"
   ]
  },
  {
   "cell_type": "markdown",
   "id": "694d27",
   "metadata": {
    "collapsed": false
   },
   "source": [
    "Ten sam efekt osiągamy za pomocą listy składanej w poniższym kodzie"
   ]
  },
  {
   "cell_type": "code",
   "execution_count": 99,
   "id": "ef6408",
   "metadata": {
    "collapsed": false
   },
   "outputs": [
    {
     "data": {
      "text/plain": [
       "[2, 4, 6, 8]"
      ]
     },
     "execution_count": 99,
     "metadata": {
     },
     "output_type": "execute_result"
    }
   ],
   "source": [
    "nowa_lista = [2 * num for num in lista]\n",
    "nowa_lista"
   ]
  },
  {
   "cell_type": "markdown",
   "id": "0492c0",
   "metadata": {
    "collapsed": false
   },
   "source": [
    "Możemy również uzyskać listę podwojonych elementów – gdy element wejściowej listy jest nieparzysty"
   ]
  },
  {
   "cell_type": "code",
   "execution_count": 100,
   "id": "9ffcc6",
   "metadata": {
    "collapsed": false
   },
   "outputs": [
    {
     "data": {
      "text/plain": [
       "[2, 6]"
      ]
     },
     "execution_count": 100,
     "metadata": {
     },
     "output_type": "execute_result"
    }
   ],
   "source": [
    "# sprawdzamy czy reszta z dzielenia przez 2 jest równa 1 – warunek będzie spełniony tylko dla elementów 1 i 3\n",
    "nowa_lista = [2 * num for num in lista if num % 2 == 1]\n",
    "nowa_lista"
   ]
  },
  {
   "cell_type": "markdown",
   "id": "26cedb",
   "metadata": {
    "collapsed": false
   },
   "source": [
    "**Zadanie 1.3**\n",
    "\n",
    "a) Utwórz <u>listę zawierającą 9 liczb całkowitych</u>! Następnie napisz program, który dla <u>każdego elementu</u> zwróci komunikat: `Element o indeksie [indeks] to liczba [parzysta/nieparzysta]!` Przykładowo, dla listy `[1, 2, 3]` należy wypisać:\n",
    "```\n",
    "Element o indeksie 0 to liczba nieparzysta!\n",
    "Element o indeksie 1 to liczba parzysta!\n",
    "Element o indeksie 2 to liczba nieparzysta!\n",
    "```\n",
    "\n",
    "---\n",
    "\n",
    "b) Napisz program, który iteruje po <u>liczbach całkowitych</u> w zakresie $[1, 100]$. Następnie:\n",
    "\n",
    "* dla <u>wielokrotności 3</u> wypisz `Pies` zamiast liczby;\n",
    "* dla <u>wielokrotności 5</u> wypisz `Kot` zamiast liczby;\n",
    "* dla liczb podzielnych <u>jednocześnie przez 3 i przez 5</u> wypisz jakieś inne zwierzątko!;\n",
    "* pozostałe liczby wypisz <u>bez zmian</u>."
   ]
  },
  {
   "cell_type": "markdown",
   "id": "b8bbd1",
   "metadata": {
    "collapsed": false
   },
   "source": [
    "## 1.4. Funkcje<a class=\"anchor\" id=\"4\"></a>"
   ]
  },
  {
   "cell_type": "markdown",
   "id": "796541",
   "metadata": {
    "collapsed": false
   },
   "source": [
    "### 1.4.1. Definiowanie funkcji<a class=\"anchor\" id=\"4-1\"></a>"
   ]
  },
  {
   "cell_type": "markdown",
   "id": "fafa65",
   "metadata": {
    "collapsed": false
   },
   "source": [
    "<u>Funkcje</u> dzielą kod na <u>mniejsze bloki</u>, zwiększając jego czytelność. Po zdefiniowaniu funkcji można ją <u>wielokrotnie wywoływać</u> w różnych częściach programu, co powoduje <u>efektywne wykonywanie powtarzalnych operacji</u>.\n",
    "\n",
    "---\n",
    "\n",
    "**Przykład**\n",
    "\n",
    "Zdefiniujemy funkcję\n",
    "\n",
    "$$f(x) = x^2 + 3x - 5$$"
   ]
  },
  {
   "cell_type": "code",
   "execution_count": 101,
   "id": "429d9d",
   "metadata": {
    "collapsed": false
   },
   "outputs": [
   ],
   "source": [
    "def f(x):\n",
    "    return x**2 + 3*x - 5"
   ]
  },
  {
   "cell_type": "markdown",
   "id": "f440b1",
   "metadata": {
    "collapsed": false
   },
   "source": [
    "Możemy obliczyć wartość funkcji dla wskazanego argumentu"
   ]
  },
  {
   "cell_type": "code",
   "execution_count": 102,
   "id": "2d448b",
   "metadata": {
    "collapsed": false
   },
   "outputs": [
    {
     "data": {
      "text/plain": [
       "-5"
      ]
     },
     "execution_count": 102,
     "metadata": {
     },
     "output_type": "execute_result"
    }
   ],
   "source": [
    "f(0)"
   ]
  },
  {
   "cell_type": "markdown",
   "id": "89dd99",
   "metadata": {
    "collapsed": false
   },
   "source": [
    "Funkcje zazwyczaj są nieco bardziej rozbudowane. Są one niezbędne wówczas, gdy musimy wielokrotnie wykonywać <u>tę samą czynność</u>. Ważną zasadą w&nbsp;programowaniu jest <u>unikanie powtarzania podobnego kodu</u> w wielu miejscach (**DRY** – **Don't Repeat Yourself**).\n",
    "\n",
    "---\n",
    "\n",
    "Inną regułą jest <u>stosowanie reprezentatywnych nazw</u> zmiennych/funkcji, które wyraźnie wskazują na ich cel. U nas zasady te nie są aż tak istotne, jednak w&nbsp;dużych projektach pozwalają na uniknięcie wielu trudnych do znalezienia błędów.\n",
    "\n",
    "---\n",
    "\n",
    "Poniżej przedstawione są klasyczne przykłady funkcji:\n",
    "\n",
    "1. Wyznaczanie <u>sumy cyfr</u> danej liczby"
   ]
  },
  {
   "cell_type": "code",
   "execution_count": 103,
   "id": "561bc1",
   "metadata": {
    "collapsed": false
   },
   "outputs": [
    {
     "data": {
      "text/plain": [
       "6"
      ]
     },
     "execution_count": 103,
     "metadata": {
     },
     "output_type": "execute_result"
    }
   ],
   "source": [
    "def oblicz_sume_cyfr(liczba):\n",
    "\n",
    "    suma = 0\n",
    "\n",
    "    while liczba > 0:        # pętla while jest wykonywana, gdy podany warunek jest spełniony (ma wartość True)\n",
    "        cyfra = liczba % 10  # ostatnia cyfra liczby – na przykład dla 123 jest to 3\n",
    "        suma += cyfra        # operator += (oraz analogiczne -=, *=, /=) zwiększa zmienną o wskazaną wartość, tutaj suma = 0 + 3\n",
    "        liczba //= 10        # usuwa ostatnią cyfrę, po zakończeniu pierwszej iteracji liczba będzie równa 12\n",
    "\n",
    "    return suma\n",
    "\n",
    "oblicz_sume_cyfr(123)"
   ]
  },
  {
   "cell_type": "markdown",
   "id": "c8178e",
   "metadata": {
    "collapsed": false
   },
   "source": [
    "2. Sprawdzanie, czy liczba jest <u>pierwsza</u>"
   ]
  },
  {
   "cell_type": "code",
   "execution_count": 104,
   "id": "ccfdf3",
   "metadata": {
    "collapsed": false
   },
   "outputs": [
    {
     "data": {
      "text/plain": [
       "True"
      ]
     },
     "execution_count": 104,
     "metadata": {
     },
     "output_type": "execute_result"
    }
   ],
   "source": [
    "def czy_liczba_pierwsza(liczba):\n",
    "\n",
    "    if liczba <= 1: return False\n",
    "\n",
    "    for i in range(2, int(liczba**0.5) + 1):  # wystarczy sprawdzić istnienie dzielników do pierwiastka z liczby włącznie\n",
    "        if liczba % i == 0: return False      # jeżeli jest podzielna przez inny dzielnik niż 1 i samą siebie, nie jest pierwsza\n",
    "\n",
    "    return True                               # zwracamy True po sprawdzeniu, że nie ma innych dzielników\n",
    "\n",
    "czy_liczba_pierwsza(29)"
   ]
  },
  {
   "cell_type": "markdown",
   "id": "6595a0",
   "metadata": {
    "collapsed": false
   },
   "source": [
    "3. Funkcja znajdująca $n$-ty wyraz <u>ciągu Fibonacciego</u>"
   ]
  },
  {
   "cell_type": "code",
   "execution_count": 105,
   "id": "219e02",
   "metadata": {
    "collapsed": false
   },
   "outputs": [
    {
     "data": {
      "text/plain": [
       "377"
      ]
     },
     "execution_count": 105,
     "metadata": {
     },
     "output_type": "execute_result"
    }
   ],
   "source": [
    "def fibonacci(n):\n",
    "\n",
    "    if n in (1, 2): return n - 1\n",
    "\n",
    "    a, b = 0, 1\n",
    "    for _ in range(2, n):  # możemy zastosować podkreślenie, gdy nie korzystamy ze zmiennej, po której iterujemy\n",
    "        a, b = b, a + b    # nie musimy korzystać ze zmiennej pomocniczej, wystarczy rozpakować krotkę (b, a+b)\n",
    "\n",
    "    return b\n",
    "\n",
    "fibonacci(15)"
   ]
  },
  {
   "cell_type": "markdown",
   "id": "c9ccf4",
   "metadata": {
    "collapsed": false
   },
   "source": [
    "4. Sprawdzanie, czy łańcuch znaków jest <u>palindromem</u>"
   ]
  },
  {
   "cell_type": "code",
   "execution_count": 106,
   "id": "bbba48",
   "metadata": {
    "collapsed": false
   },
   "outputs": [
    {
     "data": {
      "text/plain": [
       "True"
      ]
     },
     "execution_count": 106,
     "metadata": {
     },
     "output_type": "execute_result"
    }
   ],
   "source": [
    "def czy_palindrom(tekst):\n",
    "    return tekst == tekst[::-1]\n",
    "\n",
    "czy_palindrom('kajak')"
   ]
  },
  {
   "cell_type": "markdown",
   "id": "9fecbd",
   "metadata": {
    "collapsed": false
   },
   "source": [
    "5. Wypisanie <u>dzielników</u> danej liczby"
   ]
  },
  {
   "cell_type": "code",
   "execution_count": 107,
   "id": "1ddd92",
   "metadata": {
    "collapsed": false
   },
   "outputs": [
    {
     "name": "stdout",
     "output_type": "stream",
     "text": [
      "[-112, -56, -28, -16, -14, -8, -7, -4, -2, -1, 1, 2, 4, 7, 8, 14, 16, 28, 56, 112]\n"
     ]
    }
   ],
   "source": [
    "def podaj_dzielniki(liczba):\n",
    "    return [d for d in range(-liczba, liczba+1) if d and liczba % d == 0]  # if d, aby uniknąć dzielenia przez 0\n",
    "\n",
    "print(podaj_dzielniki(112))"
   ]
  },
  {
   "cell_type": "markdown",
   "id": "2b5f04",
   "metadata": {
    "collapsed": false
   },
   "source": [
    "---\n",
    "\n",
    "Funkcja może także zwracać wiele wartości w postaci krotki. Zobaczymy to na przykładzie znajdowania największej liczby w liście wraz z indeksem jej wystąpienia"
   ]
  },
  {
   "cell_type": "code",
   "execution_count": 108,
   "id": "494844",
   "metadata": {
    "collapsed": false
   },
   "outputs": [
    {
     "name": "stdout",
     "output_type": "stream",
     "text": [
      "Największa wartość 17 jest przyjmowana dla indeksu 4!\n"
     ]
    }
   ],
   "source": [
    "def znajdz_najwieksza_oraz_indeks(lista):\n",
    "\n",
    "    if not lista: return None  # gdy lista jest pusta, zwracamy None\n",
    "\n",
    "    ind, M = 0, float('-inf')  # możemy przyjąć początkową wartość największą jako -oo\n",
    "\n",
    "    for indeks, liczba in enumerate(lista):\n",
    "        if liczba > M:\n",
    "            ind, M = indeks, liczba\n",
    "\n",
    "    return ind, M\n",
    "\n",
    "lista = [-2, 3, 1, -5, 17, 8, 0, 4]\n",
    "indeks, najwieksza = znajdz_najwieksza_oraz_indeks(lista)\n",
    "\n",
    "print(f'Największa wartość {najwieksza} jest przyjmowana dla indeksu {indeks}!')"
   ]
  },
  {
   "cell_type": "markdown",
   "id": "4be5ae",
   "metadata": {
    "collapsed": false
   },
   "source": [
    "W języku **Python** tego typu programy możemy często zapisać w jednej linijce za pomocą odpowiednich funkcji wbudowanych"
   ]
  },
  {
   "cell_type": "code",
   "execution_count": 109,
   "id": "c0c0d8",
   "metadata": {
    "collapsed": false
   },
   "outputs": [
    {
     "data": {
      "text/plain": [
       "4"
      ]
     },
     "execution_count": 109,
     "metadata": {
     },
     "output_type": "execute_result"
    }
   ],
   "source": [
    "lista.index(max(lista))"
   ]
  },
  {
   "cell_type": "markdown",
   "id": "519cfb",
   "metadata": {
    "collapsed": false
   },
   "source": [
    "---\n",
    "\n",
    "Przypomnijmy definicję funkcji $f$"
   ]
  },
  {
   "cell_type": "code",
   "execution_count": 110,
   "id": "3630b9",
   "metadata": {
    "collapsed": false
   },
   "outputs": [
   ],
   "source": [
    "def f(x):\n",
    "    return x**2 + 3*x - 5"
   ]
  },
  {
   "cell_type": "markdown",
   "id": "1280bf",
   "metadata": {
    "collapsed": false
   },
   "source": [
    "Załóżmy teraz, że chcemy obliczyć wartość funkcji $f$ dla każdego elementu listy\n",
    "\n",
    "$$[0,\\, 1,\\, 2,\\, 3,\\, 4,\\, 5,\\, 6,\\, 7,\\, 8,\\, 9]$$\n",
    "\n",
    "Czyli interesuje nas\n",
    "\n",
    "$$[f(0),\\, f(1),\\, f(2),\\, f(3),\\, f(4),\\, f(5),\\, f(6),\\, f(7),\\, f(8),\\, f(9)]$$\n",
    "\n",
    "---\n",
    "\n",
    "W tym celu najpierw definiujemy początkową listę, korzystając z funkcji **range()**"
   ]
  },
  {
   "cell_type": "code",
   "execution_count": 111,
   "id": "bc5758",
   "metadata": {
    "collapsed": false
   },
   "outputs": [
    {
     "data": {
      "text/plain": [
       "[0, 1, 2, 3, 4, 5, 6, 7, 8, 9]"
      ]
     },
     "execution_count": 111,
     "metadata": {
     },
     "output_type": "execute_result"
    }
   ],
   "source": [
    "x = list(range(10))\n",
    "x"
   ]
  },
  {
   "cell_type": "markdown",
   "id": "212d78",
   "metadata": {
    "collapsed": false
   },
   "source": [
    "Następnie, aby obliczyć wartości dla każdego elementu powyższej listy, wykorzystujemy funkcję **map()**. Pierwszy jej argument jest <u>funkcją</u>. Natomiast drugi sekwencją, dla której wyliczamy kolejne wartości"
   ]
  },
  {
   "cell_type": "code",
   "execution_count": 112,
   "id": "abb0ab",
   "metadata": {
    "collapsed": false
   },
   "outputs": [
    {
     "data": {
      "text/plain": [
       "<map at 0x7f85913c5db0>"
      ]
     },
     "execution_count": 112,
     "metadata": {
     },
     "output_type": "execute_result"
    }
   ],
   "source": [
    "map(f, x)"
   ]
  },
  {
   "cell_type": "markdown",
   "id": "dd6961",
   "metadata": {
    "collapsed": false
   },
   "source": [
    "Ponieważ w wyniku uzyskaliśmy dziwny obiekt, należy zrzutować go na typ listy"
   ]
  },
  {
   "cell_type": "code",
   "execution_count": 113,
   "id": "69aca2",
   "metadata": {
    "collapsed": false
   },
   "outputs": [
    {
     "data": {
      "text/plain": [
       "[-5, -1, 5, 13, 23, 35, 49, 65, 83, 103]"
      ]
     },
     "execution_count": 113,
     "metadata": {
     },
     "output_type": "execute_result"
    }
   ],
   "source": [
    "list(map(f, x))"
   ]
  },
  {
   "cell_type": "markdown",
   "id": "d344a8",
   "metadata": {
    "collapsed": false
   },
   "source": [
    "---\n",
    "\n",
    "Podobny rezultat możemy uzyskać bez konieczności wcześniejszego definiowania funkcji $f$. W tym celu stosujemy <u>funkcję anonimową</u> **lambda**. Poniżej `x`&nbsp;w&nbsp;pierwszym argumencie określa jedynie <u>przepis na funkcję</u> (można użyć innej litery). Natomiast drugi argument funkcji **map()** jest listą"
   ]
  },
  {
   "cell_type": "code",
   "execution_count": 114,
   "id": "dd3085",
   "metadata": {
    "collapsed": false
   },
   "outputs": [
    {
     "data": {
      "text/plain": [
       "[-5, -1, 5, 13, 23, 35, 49, 65, 83, 103]"
      ]
     },
     "execution_count": 114,
     "metadata": {
     },
     "output_type": "execute_result"
    }
   ],
   "source": [
    "wynik = map(lambda x: x**2 + 3*x - 5, x)\n",
    "\n",
    "list(wynik)"
   ]
  },
  {
   "cell_type": "markdown",
   "id": "64a1dc",
   "metadata": {
    "collapsed": false
   },
   "source": [
    "Funkcja **lambda** definiuje operację, którą należy wykonać na danym elemencie. Następnie <u>funkcję</u> **lambda** przekazujemy jako pierwszy argument <u>funkcji</u> **map()**, aby ta operacja została wykonana na każdym elemencie <u>listy</u> `x`. Warto zwrócić uwagę na to, że pierwszym argumentem funkcji **map()** jest <u>funkcja</u>, a&nbsp;nie wartość funkcji.\n",
    "\n",
    "---\n",
    "\n",
    "Policzymy jeszcze raz kwadraty elementów listy `x`"
   ]
  },
  {
   "cell_type": "code",
   "execution_count": 115,
   "id": "cc23b4",
   "metadata": {
    "collapsed": false
   },
   "outputs": [
    {
     "data": {
      "text/plain": [
       "[0, 1, 4, 9, 16, 25, 36, 49, 64, 81]"
      ]
     },
     "execution_count": 115,
     "metadata": {
     },
     "output_type": "execute_result"
    }
   ],
   "source": [
    "list(map(lambda x: x**2, x))"
   ]
  },
  {
   "cell_type": "markdown",
   "id": "3a9b7e",
   "metadata": {
    "collapsed": false
   },
   "source": [
    "Funkcję **lambda** można również wykorzystać na przykład do <u>sortowania punktów</u> po drugich współrzędnych"
   ]
  },
  {
   "cell_type": "code",
   "execution_count": 116,
   "id": "32c584",
   "metadata": {
    "collapsed": false
   },
   "outputs": [
    {
     "data": {
      "text/plain": [
       "[(4, -1), (2, 0), (3, 2)]"
      ]
     },
     "execution_count": 116,
     "metadata": {
     },
     "output_type": "execute_result"
    }
   ],
   "source": [
    "punkty = [(2, 0), (4, -1), (3, 2)]\n",
    "\n",
    "sorted(punkty, key=lambda x: x[1])"
   ]
  },
  {
   "cell_type": "markdown",
   "id": "198ae8",
   "metadata": {
    "collapsed": false
   },
   "source": [
    "### 1.4.2. Analiza kodu<a class=\"anchor\" id=\"4-2\"></a>"
   ]
  },
  {
   "cell_type": "markdown",
   "id": "035b16",
   "metadata": {
    "collapsed": false
   },
   "source": [
    "Załóżmy, że mamy listę reprezentującą <u>pierwsze współrzędne</u> punktów na płaszczyźnie\n",
    "\n",
    "$$[1,\\, 3,\\, 6]$$\n",
    "\n",
    "Oraz drugą listę zawierającą <u>drugie współrzędne</u> tych punktów\n",
    "\n",
    "$$[-2,\\, 7,\\, 0]$$\n",
    "\n",
    "Chcemy uzyskać listę <u>współrzędnych punktów</u>, czyli\n",
    "\n",
    "$$[(1, -2),\\, (3, 7),\\, (6, 0)]$$\n",
    "\n",
    "---\n",
    "\n",
    "Rozpoczynamy od zdefiniowania list współrzędnych `x` oraz `y`"
   ]
  },
  {
   "cell_type": "code",
   "execution_count": 117,
   "id": "6245be",
   "metadata": {
    "collapsed": false
   },
   "outputs": [
   ],
   "source": [
    "x = [1, 3, 6]\n",
    "y = [-2, 7, 0]"
   ]
  },
  {
   "cell_type": "markdown",
   "id": "683251",
   "metadata": {
    "collapsed": false
   },
   "source": [
    "Następnie, aby uzyskać żądany rezultat, posłużymy się funkcją **zip()**"
   ]
  },
  {
   "cell_type": "code",
   "execution_count": 118,
   "id": "a084fa",
   "metadata": {
    "collapsed": false
   },
   "outputs": [
    {
     "data": {
      "text/plain": [
       "<zip at 0x7f85912a1f80>"
      ]
     },
     "execution_count": 118,
     "metadata": {
     },
     "output_type": "execute_result"
    }
   ],
   "source": [
    "zip(x, y)"
   ]
  },
  {
   "cell_type": "markdown",
   "id": "2d6a2b",
   "metadata": {
    "collapsed": false
   },
   "source": [
    "Jak zwykle, tego typu wynik powinniśmy zrzutować na typ listy"
   ]
  },
  {
   "cell_type": "code",
   "execution_count": 119,
   "id": "538744",
   "metadata": {
    "collapsed": false
   },
   "outputs": [
    {
     "data": {
      "text/plain": [
       "[(1, -2), (3, 7), (6, 0)]"
      ]
     },
     "execution_count": 119,
     "metadata": {
     },
     "output_type": "execute_result"
    }
   ],
   "source": [
    "list(zip(x, y))"
   ]
  },
  {
   "cell_type": "markdown",
   "id": "39de01",
   "metadata": {
    "collapsed": false
   },
   "source": [
    "----\n",
    "\n",
    "Inny przykład zastosowania funkcji **zip()** – wyznaczenie różnic kolejnych elementów w danej liście\n",
    "\n",
    "$$[1,\\, 5,\\, 3,\\, 2,\\, 8,\\, 7,\\, 10,\\, 13]$$\n",
    "\n",
    "Chcemy policzyć\n",
    "\n",
    "$$[5 - 1,\\, 3 - 5,\\, 2 - 3,\\, 8 - 2,\\, 7 - 8,\\, 10 - 7,\\, 13 - 10]$$\n",
    "\n",
    "---\n",
    "\n",
    "Stosujemy funkcję **zip()** w połączeniu z listą składaną"
   ]
  },
  {
   "cell_type": "code",
   "execution_count": 120,
   "id": "ab7e94",
   "metadata": {
    "collapsed": false
   },
   "outputs": [
    {
     "data": {
      "text/plain": [
       "[4, -2, -1, 6, -1, 3, 3]"
      ]
     },
     "execution_count": 120,
     "metadata": {
     },
     "output_type": "execute_result"
    }
   ],
   "source": [
    "lista = [1, 5, 3, 2, 8, 7, 10, 13]\n",
    "[y - x for x, y in zip(lista, lista[1:])]"
   ]
  },
  {
   "cell_type": "markdown",
   "id": "746ddf",
   "metadata": {
    "collapsed": false
   },
   "source": [
    "Możemy przeanalizować kolejne kroki wykonywane przez powyższą formułę za pomocą funkcji **print()**. Jest to użyteczny sposób, gdy mamy styczność z&nbsp;kodem, którego nie rozumiemy. W takim wypadku warto <u>wypisać po kolei poszczególne fragmenty</u> danej formuły.\n",
    "\n",
    "---\n",
    "\n",
    "Zobaczmy, jak może wyglądać taki proces. Rozpoczynamy od początkowej listy"
   ]
  },
  {
   "cell_type": "code",
   "execution_count": 121,
   "id": "bae2f1",
   "metadata": {
    "collapsed": false
   },
   "outputs": [
    {
     "data": {
      "text/plain": [
       "[1, 5, 3, 2, 8, 7, 10, 13]"
      ]
     },
     "execution_count": 121,
     "metadata": {
     },
     "output_type": "execute_result"
    }
   ],
   "source": [
    "lista"
   ]
  },
  {
   "cell_type": "markdown",
   "id": "dc0428",
   "metadata": {
    "collapsed": false
   },
   "source": [
    "Wypisujemy składniki kodu, zaczynając od środka. Najpierw mamy elementy od pierwszego indeksu do końca listy"
   ]
  },
  {
   "cell_type": "code",
   "execution_count": 122,
   "id": "c44312",
   "metadata": {
    "collapsed": false
   },
   "outputs": [
    {
     "data": {
      "text/plain": [
       "[5, 3, 2, 8, 7, 10, 13]"
      ]
     },
     "execution_count": 122,
     "metadata": {
     },
     "output_type": "execute_result"
    }
   ],
   "source": [
    "lista[1:]"
   ]
  },
  {
   "cell_type": "markdown",
   "id": "bf8f98",
   "metadata": {
    "collapsed": false
   },
   "source": [
    "Następnie uzyskujemy pary kolejnych elementów"
   ]
  },
  {
   "cell_type": "code",
   "execution_count": 123,
   "id": "3f8bcb",
   "metadata": {
    "collapsed": false
   },
   "outputs": [
    {
     "data": {
      "text/plain": [
       "[(1, 5), (5, 3), (3, 2), (2, 8), (8, 7), (7, 10), (10, 13)]"
      ]
     },
     "execution_count": 123,
     "metadata": {
     },
     "output_type": "execute_result"
    }
   ],
   "source": [
    "list(zip(lista, lista[1:]))"
   ]
  },
  {
   "cell_type": "markdown",
   "id": "63f379",
   "metadata": {
    "collapsed": false
   },
   "source": [
    "W liście składanej zmienna `x` przyjmuje wartość pierwszego elementu krotki, natomiast `y` – drugiego"
   ]
  },
  {
   "cell_type": "code",
   "execution_count": 124,
   "id": "c19b11",
   "metadata": {
    "collapsed": false
   },
   "outputs": [
    {
     "name": "stdout",
     "output_type": "stream",
     "text": [
      "1 5\n",
      "5 3\n",
      "3 2\n",
      "2 8\n",
      "8 7\n",
      "7 10\n",
      "10 13\n"
     ]
    }
   ],
   "source": [
    "for x, y in zip(lista, lista[1:]):\n",
    "    print(x, y)"
   ]
  },
  {
   "cell_type": "markdown",
   "id": "82dfb2",
   "metadata": {
    "collapsed": false
   },
   "source": [
    "Wobec tego `y-x` to różnice kolejnych elementów listy"
   ]
  },
  {
   "cell_type": "code",
   "execution_count": 125,
   "id": "932573",
   "metadata": {
    "collapsed": false
   },
   "outputs": [
    {
     "name": "stdout",
     "output_type": "stream",
     "text": [
      "4\n",
      "-2\n",
      "-1\n",
      "6\n",
      "-1\n",
      "3\n",
      "3\n"
     ]
    }
   ],
   "source": [
    "for x, y in zip(lista, lista[1:]):\n",
    "    print(y - x)"
   ]
  },
  {
   "cell_type": "markdown",
   "id": "b6131b",
   "metadata": {
    "collapsed": false
   },
   "source": [
    "Całą tę procedurę ujmujemy za pomocą kompaktowej listy składanej"
   ]
  },
  {
   "cell_type": "code",
   "execution_count": 126,
   "id": "edf67a",
   "metadata": {
    "collapsed": false
   },
   "outputs": [
    {
     "data": {
      "text/plain": [
       "[4, -2, -1, 6, -1, 3, 3]"
      ]
     },
     "execution_count": 126,
     "metadata": {
     },
     "output_type": "execute_result"
    }
   ],
   "source": [
    "[y - x for x, y in zip(lista, lista[1:])]"
   ]
  },
  {
   "cell_type": "markdown",
   "id": "5d586d",
   "metadata": {
    "collapsed": false
   },
   "source": [
    "**Zadanie 1.4**\n",
    "\n",
    "a) Dana jest <u>lista</u> liczb całkowitych `liczby` oraz <u>liczba całkowita</u> `cel`. Napisz <u>funkcję</u> zwracającą listę <u>indeksów dwóch liczb</u>, które sumują się do `cel`!\n",
    "\n",
    "<u>Przykład 1</u>: `liczby = [2, 7, 11, 15]`, `cel = 9`. Oczekiwany wynik: `[0, 1]`.\n",
    "\n",
    "<u>Przykład 2</u>: `liczby = [5, 15, 2, 11, 7]`, `cel = 22`. Oczekiwany wynik: `[1, 4]`.\n",
    "\n",
    "**Wskazówka**:\n",
    "\n",
    "Jest to jedno z najczęściej pojawiających się zadań na rozmowach kwalifikacyjnych! Można je rozwiązać na 3 sposoby (w kolejności od najgorszego do najlepszego):\n",
    "* sprawdzenie wszystkich możliwości za pomocą <u>dwóch zagnieżdżonych pętli **for**</u> (tzw. **Brute Force**);\n",
    "* <u>sortowanie listy oraz dwa wskaźniki</u> (jeden ustawiamy na początku, a drugi na końcu – przesuwamy je do środka w zależności od sumy);\n",
    "* <u>zastosowanie słownika</u> – w jednej pętli **for** umieszczamy w słowniku kolejne elementy i jednocześnie sprawdzamy czy (`cel - liczba`) znajduje się już w&nbsp;słowniku – gdy tak jest, zwracamy wynik.\n",
    "\n",
    "Jeżeli zadanie jest zbyt trudne, można znaleźć wiele przykładowych rozwiązań w internecie (problem nazywa się **Two Sum**). Wówczas należy je przeanalizować tak, jak to pokazano wyżej – poprzez wypisanie kolejnych elementów w pętli za pomocą funkcji **print()**!\n",
    "\n",
    "---\n",
    "\n",
    "b) <u>Dodaj rozwiązanie</u> na stronie [LeetCode](https://leetcode.com/problems/two-sum/description/) i sprawdź, czy przechodzi ono wszystkie testy – dla chętnych!"
   ]
  },
  {
   "cell_type": "markdown",
   "id": "01da12",
   "metadata": {
    "collapsed": false
   },
   "source": [
    "## 1.5. Importowanie bibliotek<a class=\"anchor\" id=\"5\"></a>"
   ]
  },
  {
   "cell_type": "markdown",
   "id": "6746ba",
   "metadata": {
    "collapsed": false
   },
   "source": [
    "### 1.5.1. Podstawy importowania bibliotek<a class=\"anchor\" id=\"5-1\"></a>"
   ]
  },
  {
   "cell_type": "markdown",
   "id": "bffab8",
   "metadata": {
    "collapsed": false
   },
   "source": [
    "Bibliotekę <u>importujemy</u>, aby skorzystać z obiektów, które są w niej zdefiniowane. Wykonujemy tę czynność, korzystając ze <u>słowa kluczowego</u> **import**. Na&nbsp;przykład, aby zastosować funkcje matematyczne, możemy skorzystać z biblioteki **math**"
   ]
  },
  {
   "cell_type": "code",
   "execution_count": 127,
   "id": "580d01",
   "metadata": {
    "collapsed": false
   },
   "outputs": [
   ],
   "source": [
    "import math"
   ]
  },
  {
   "cell_type": "markdown",
   "id": "911adf",
   "metadata": {
    "collapsed": false
   },
   "source": [
    "Teraz mamy dostęp do obiektów z tej biblioteki. Zacznijmy od funkcji **sqrt()**, która oblicza pierwiastek z danej liczby. Aby sprecyzować, że korzystamy z funkcji **sqrt()** z biblioteki **math**, używamy operatora kropki"
   ]
  },
  {
   "cell_type": "code",
   "execution_count": 128,
   "id": "e38c22",
   "metadata": {
    "collapsed": false
   },
   "outputs": [
    {
     "data": {
      "text/plain": [
       "3.0"
      ]
     },
     "execution_count": 128,
     "metadata": {
     },
     "output_type": "execute_result"
    }
   ],
   "source": [
    "math.sqrt(9)"
   ]
  },
  {
   "cell_type": "markdown",
   "id": "23ee03",
   "metadata": {
    "collapsed": false
   },
   "source": [
    "Możemy również zaimportować z biblioteki **math** konkretną funkcję. Wówczas będziemy mogli wykorzystywać ją bezpośrednio"
   ]
  },
  {
   "cell_type": "code",
   "execution_count": 129,
   "id": "36b4fc",
   "metadata": {
    "collapsed": false
   },
   "outputs": [
    {
     "data": {
      "text/plain": [
       "4.0"
      ]
     },
     "execution_count": 129,
     "metadata": {
     },
     "output_type": "execute_result"
    }
   ],
   "source": [
    "from math import sqrt\n",
    "\n",
    "sqrt(16)"
   ]
  },
  {
   "cell_type": "markdown",
   "id": "155d26",
   "metadata": {
    "collapsed": false
   },
   "source": [
    "Mamy możliwość korzystania z tzw. <u>aliasów</u> nazw bibliotek, aby nie wypisywać pełnej nazwy danej biblioteki przed każdą wywoływaną z niej funkcją. Jedną z&nbsp;najczęściej używanych bibliotek jest **NumPy**, która służy do <u>obliczeń numerycznych</u>. Wówczas zwyczajowo korzystamy z aliasu **np**"
   ]
  },
  {
   "cell_type": "code",
   "execution_count": 130,
   "id": "aec459",
   "metadata": {
    "collapsed": false
   },
   "outputs": [
   ],
   "source": [
    "import numpy as np"
   ]
  },
  {
   "cell_type": "markdown",
   "id": "6c3a96",
   "metadata": {
    "collapsed": false
   },
   "source": [
    "Zastosujemy alias, aby wykorzystać funkcję z tej biblioteki, która wypisuje <u>macierz jednostkową</u> 3x3"
   ]
  },
  {
   "cell_type": "code",
   "execution_count": 131,
   "id": "97572a",
   "metadata": {
    "collapsed": false
   },
   "outputs": [
    {
     "data": {
      "text/plain": [
       "array([[1., 0., 0.],\n",
       "       [0., 1., 0.],\n",
       "       [0., 0., 1.]])"
      ]
     },
     "execution_count": 131,
     "metadata": {
     },
     "output_type": "execute_result"
    }
   ],
   "source": [
    "np.identity(3)"
   ]
  },
  {
   "cell_type": "markdown",
   "id": "3fbbee",
   "metadata": {
    "collapsed": false
   },
   "source": [
    "### 1.5.2. Przykłady bibliotek<a class=\"anchor\" id=\"5-2\"></a>"
   ]
  },
  {
   "cell_type": "markdown",
   "id": "1ac856",
   "metadata": {
    "collapsed": false
   },
   "source": [
    "Zakończymy przeglądem istotnych obiektów w języku **Python** oraz bibliotek, z których one pochodzą. Zaczniemy od wspomnianej już biblioteki **math**:\n",
    "\n",
    "1. <u>Stałe</u> $\\pi$ oraz $e$"
   ]
  },
  {
   "cell_type": "code",
   "execution_count": 132,
   "id": "13052d",
   "metadata": {
    "collapsed": false
   },
   "outputs": [
    {
     "name": "stdout",
     "output_type": "stream",
     "text": [
      "3.141592653589793\n",
      "2.718281828459045\n"
     ]
    }
   ],
   "source": [
    "print(math.pi)\n",
    "print(math.e)"
   ]
  },
  {
   "cell_type": "markdown",
   "id": "c13eed",
   "metadata": {
    "collapsed": false
   },
   "source": [
    "2. <u>Największy wspólny dzielnik</u> (**Greatest Common Divisor**)"
   ]
  },
  {
   "cell_type": "code",
   "execution_count": 133,
   "id": "13b4c1",
   "metadata": {
    "collapsed": false
   },
   "outputs": [
    {
     "data": {
      "text/plain": [
       "2"
      ]
     },
     "execution_count": 133,
     "metadata": {
     },
     "output_type": "execute_result"
    }
   ],
   "source": [
    "math.gcd(4, 14)"
   ]
  },
  {
   "cell_type": "markdown",
   "id": "b8cf06",
   "metadata": {
    "collapsed": false
   },
   "source": [
    "3. <u>Najmniejsza wspólna wielokrotność</u> (**Least Common Multiple**)"
   ]
  },
  {
   "cell_type": "code",
   "execution_count": 134,
   "id": "ad7a67",
   "metadata": {
    "collapsed": false
   },
   "outputs": [
    {
     "data": {
      "text/plain": [
       "28"
      ]
     },
     "execution_count": 134,
     "metadata": {
     },
     "output_type": "execute_result"
    }
   ],
   "source": [
    "math.lcm(4, 14)"
   ]
  },
  {
   "cell_type": "markdown",
   "id": "831254",
   "metadata": {
    "collapsed": false
   },
   "source": [
    "4. <u>Podłoga i sufit</u>"
   ]
  },
  {
   "cell_type": "code",
   "execution_count": 135,
   "id": "6afd9b",
   "metadata": {
    "collapsed": false
   },
   "outputs": [
    {
     "name": "stdout",
     "output_type": "stream",
     "text": [
      "3\n",
      "4\n"
     ]
    }
   ],
   "source": [
    "print(math.floor(3.56))\n",
    "print(math.ceil(3.56))"
   ]
  },
  {
   "cell_type": "markdown",
   "id": "12d227",
   "metadata": {
    "collapsed": false
   },
   "source": [
    "5. <u>Funkcje trygonometryczne</u>"
   ]
  },
  {
   "cell_type": "code",
   "execution_count": 136,
   "id": "7da56a",
   "metadata": {
    "collapsed": false
   },
   "outputs": [
    {
     "name": "stdout",
     "output_type": "stream",
     "text": [
      "0.8660254037844386\n",
      "0.5000000000000001\n",
      "1.7320508075688767\n"
     ]
    }
   ],
   "source": [
    "print(math.sin(math.pi / 3))\n",
    "print(math.cos(math.pi / 3))\n",
    "print(math.tan(math.pi / 3))"
   ]
  },
  {
   "cell_type": "markdown",
   "id": "af67d1",
   "metadata": {
    "collapsed": false
   },
   "source": [
    "6. <u>Funkcje logarytmiczne</u> (tutaj funkcja **log()** oznacza <u>logarytm naturalny</u> – o podstawie $e$)"
   ]
  },
  {
   "cell_type": "code",
   "execution_count": 137,
   "id": "0aabf9",
   "metadata": {
    "collapsed": false
   },
   "outputs": [
    {
     "name": "stdout",
     "output_type": "stream",
     "text": [
      "6.931471805599453\n",
      "3.0102999566398116\n",
      "10.0\n"
     ]
    }
   ],
   "source": [
    "print(math.log(1024))      # logarytm naturalny (czyli ln)\n",
    "print(math.log(1024, 10))  # logarytm dziesiętny (czyli log)\n",
    "print(math.log(1024, 2))   # logarytm o podstawie 2 (czyli lg)"
   ]
  },
  {
   "cell_type": "markdown",
   "id": "fcd0b2",
   "metadata": {
    "collapsed": false
   },
   "source": [
    "7. <u>Liczba kombinacji</u> $k$-elementowych ze zbioru $n$-elementowego, czyli ${n \\choose k}$"
   ]
  },
  {
   "cell_type": "code",
   "execution_count": 138,
   "id": "8e33f0",
   "metadata": {
    "collapsed": false
   },
   "outputs": [
    {
     "data": {
      "text/plain": [
       "15"
      ]
     },
     "execution_count": 138,
     "metadata": {
     },
     "output_type": "execute_result"
    }
   ],
   "source": [
    "math.comb(6, 2)"
   ]
  },
  {
   "cell_type": "markdown",
   "id": "16f7d8",
   "metadata": {
    "collapsed": false
   },
   "source": [
    "8. <u>Eksponenta</u>, czyli funkcja wykładnicza o podstawie $e$"
   ]
  },
  {
   "cell_type": "code",
   "execution_count": 139,
   "id": "d66a48",
   "metadata": {
    "collapsed": false
   },
   "outputs": [
    {
     "data": {
      "text/plain": [
       "7.38905609893065"
      ]
     },
     "execution_count": 139,
     "metadata": {
     },
     "output_type": "execute_result"
    }
   ],
   "source": [
    "math.exp(2)"
   ]
  },
  {
   "cell_type": "markdown",
   "id": "1c59c1",
   "metadata": {
    "collapsed": false
   },
   "source": [
    "9. <u>Silnia</u>"
   ]
  },
  {
   "cell_type": "code",
   "execution_count": 140,
   "id": "cdc976",
   "metadata": {
    "collapsed": false
   },
   "outputs": [
    {
     "data": {
      "text/plain": [
       "720"
      ]
     },
     "execution_count": 140,
     "metadata": {
     },
     "output_type": "execute_result"
    }
   ],
   "source": [
    "math.factorial(6)"
   ]
  },
  {
   "cell_type": "markdown",
   "id": "59564a",
   "metadata": {
    "collapsed": false
   },
   "source": [
    "**Przykład**\n",
    "\n",
    "Policzymy silnię 10 początkowych liczb naturalnych"
   ]
  },
  {
   "cell_type": "code",
   "execution_count": 141,
   "id": "506013",
   "metadata": {
    "collapsed": false
   },
   "outputs": [
    {
     "data": {
      "text/plain": [
       "[1, 2, 6, 24, 120, 720, 5040, 40320, 362880, 3628800]"
      ]
     },
     "execution_count": 141,
     "metadata": {
     },
     "output_type": "execute_result"
    }
   ],
   "source": [
    "from math import factorial\n",
    "\n",
    "list(map(factorial, range(1, 11)))"
   ]
  },
  {
   "cell_type": "markdown",
   "id": "3d033b",
   "metadata": {
    "collapsed": false
   },
   "source": [
    "---\n",
    "\n",
    "W bibliotece **collections** bardzo przydatnym obiektem jest **Counter**. Przypomina on słownik, który podaje <u>liczbę wystąpień poszczególnych elementów</u>"
   ]
  },
  {
   "cell_type": "code",
   "execution_count": 142,
   "id": "a62f97",
   "metadata": {
    "collapsed": false
   },
   "outputs": [
    {
     "data": {
      "text/plain": [
       "Counter({1: 5, 4: 2, 5: 3})"
      ]
     },
     "execution_count": 142,
     "metadata": {
     },
     "output_type": "execute_result"
    }
   ],
   "source": [
    "from collections import Counter\n",
    "\n",
    "x = [1, 1, 1, 1, 1, 4, 4, 5, 5, 5]\n",
    "Counter(x)"
   ]
  },
  {
   "cell_type": "markdown",
   "id": "97f269",
   "metadata": {
    "collapsed": false
   },
   "source": [
    "Dla zmiennej tekstowej zwraca liczbę poszczególnych liter"
   ]
  },
  {
   "cell_type": "code",
   "execution_count": 143,
   "id": "d311ac",
   "metadata": {
    "collapsed": false
   },
   "outputs": [
    {
     "data": {
      "text/plain": [
       "Counter({'c': 1, 'o': 2, 'k': 2, 'l': 1, 'w': 1, 'i': 1, 'e': 1})"
      ]
     },
     "execution_count": 143,
     "metadata": {
     },
     "output_type": "execute_result"
    }
   ],
   "source": [
    "s = 'cokolwiek'\n",
    "Counter(s)"
   ]
  },
  {
   "cell_type": "markdown",
   "id": "088eca",
   "metadata": {
    "collapsed": false
   },
   "source": [
    "Obiekt ten posiada dodatkowo wiele innych funkcji. Na przykład może zwrócić kilka najczęściej występujących elementów"
   ]
  },
  {
   "cell_type": "code",
   "execution_count": 144,
   "id": "7e0ff8",
   "metadata": {
    "collapsed": false
   },
   "outputs": [
    {
     "data": {
      "text/plain": [
       "[(1, 5), (5, 3)]"
      ]
     },
     "execution_count": 144,
     "metadata": {
     },
     "output_type": "execute_result"
    }
   ],
   "source": [
    "c = Counter(x)\n",
    "c.most_common(2)"
   ]
  },
  {
   "cell_type": "markdown",
   "id": "d6a943",
   "metadata": {
    "collapsed": false
   },
   "source": [
    "Biblioteka **collections** zawiera wiele innych przydatnych obiektów, jednak są one nieco bardziej zaawansowane. Szczegółowe informacje na temat dostępnych możliwości można znaleźć w [dokumentacji](https://docs.python.org/3/library/collections.html) tej biblioteki. Prawie wszystkie elementy języka **Python** są gdzieś dokładnie opisane. W praktyce nieustannie zachodzi potrzeba korzystania z dokumentacji (teraz też z czatu GPT), gdyż możliwości tego języka są tak ogromne, że nie sposób wszystkiego zapamiętać.\n",
    "\n",
    "---\n",
    "\n",
    "Często zachodzi potrzeba przypominania sobie nazw funkcji, argumentów, ich kolejności czy składni. Przydatne są również przykłady użycia poszczególnych funkcji (dostęp do nich można uzyskać za pomocą skrótu **Shift+Tab**).\n",
    "\n",
    "---\n",
    "\n",
    "Na koniec zobaczymy cztery funkcje z biblioteki **itertools**, które są przydatne do <u>obliczeń kombinatorycznych</u>:\n",
    "\n",
    "1. <u>Permutacje</u>"
   ]
  },
  {
   "cell_type": "code",
   "execution_count": 145,
   "id": "90f96c",
   "metadata": {
    "collapsed": false
   },
   "outputs": [
    {
     "data": {
      "text/plain": [
       "[('a', 'b', 'c'),\n",
       " ('a', 'c', 'b'),\n",
       " ('b', 'a', 'c'),\n",
       " ('b', 'c', 'a'),\n",
       " ('c', 'a', 'b'),\n",
       " ('c', 'b', 'a')]"
      ]
     },
     "execution_count": 145,
     "metadata": {
     },
     "output_type": "execute_result"
    }
   ],
   "source": [
    "import itertools as it\n",
    "\n",
    "lista = ['a', 'b', 'c']\n",
    "list(it.permutations(lista))"
   ]
  },
  {
   "cell_type": "markdown",
   "id": "d10d13",
   "metadata": {
    "collapsed": false
   },
   "source": [
    "2. <u>Kombinacje</u> $k$-elementowe <u>bez powtórzeń</u>"
   ]
  },
  {
   "cell_type": "code",
   "execution_count": 146,
   "id": "3121f5",
   "metadata": {
    "collapsed": false
   },
   "outputs": [
    {
     "data": {
      "text/plain": [
       "[('a', 'b'), ('a', 'c'), ('b', 'c')]"
      ]
     },
     "execution_count": 146,
     "metadata": {
     },
     "output_type": "execute_result"
    }
   ],
   "source": [
    "list(it.combinations(lista, 2))"
   ]
  },
  {
   "cell_type": "markdown",
   "id": "2a9594",
   "metadata": {
    "collapsed": false
   },
   "source": [
    "3. <u>Kombinacje</u> $k$-elementowe <u>z powtórzeniami</u>"
   ]
  },
  {
   "cell_type": "code",
   "execution_count": 147,
   "id": "b5fde2",
   "metadata": {
    "collapsed": false
   },
   "outputs": [
    {
     "data": {
      "text/plain": [
       "[('a', 'a'), ('a', 'b'), ('a', 'c'), ('b', 'b'), ('b', 'c'), ('c', 'c')]"
      ]
     },
     "execution_count": 147,
     "metadata": {
     },
     "output_type": "execute_result"
    }
   ],
   "source": [
    "list(it.combinations_with_replacement(lista, 2))"
   ]
  },
  {
   "cell_type": "markdown",
   "id": "f01bc9",
   "metadata": {
    "collapsed": false
   },
   "source": [
    "4. <u>Produkt kartezjański</u>"
   ]
  },
  {
   "cell_type": "code",
   "execution_count": 148,
   "id": "28c0fe",
   "metadata": {
    "collapsed": false
   },
   "outputs": [
    {
     "data": {
      "text/plain": [
       "[('a', 'a'),\n",
       " ('a', 'b'),\n",
       " ('a', 'c'),\n",
       " ('b', 'a'),\n",
       " ('b', 'b'),\n",
       " ('b', 'c'),\n",
       " ('c', 'a'),\n",
       " ('c', 'b'),\n",
       " ('c', 'c')]"
      ]
     },
     "execution_count": 148,
     "metadata": {
     },
     "output_type": "execute_result"
    }
   ],
   "source": [
    "list(it.product(lista, lista))"
   ]
  },
  {
   "cell_type": "markdown",
   "id": "1f7d73",
   "metadata": {
    "collapsed": false
   },
   "source": [
    "**Zadanie 1.5**\n",
    "\n",
    "Wykonaj poniższe polecenia, korzystając z [dokumentacji](https://python.readthedocs.io/en/latest/library/random.html) biblioteki **random**. Rozwiąż zadanie, zapewniając <u>odtwarzalność wyników</u> – tak, aby po każdym uruchomieniu kodu wylosować to samo! Można to osiągnąć poprzez wpisanie instrukcji `random.seed(argument)` na początku komórki z kodem, w której losujemy. W&nbsp;miejsce słowa `argument` należy umieścić na przykład liczbę utworzoną z dwóch ostatnich cyfr numeru albumu (czyli `nr % 100`)!\n",
    "\n",
    "a) Wygeneruj:\n",
    "\n",
    "* 5-elementową listę zawierającą losowe <u>liczby rzeczywiste</u> z przedziału $[0, 1)$;\n",
    "* 3-elementową listę zawierającą losowe <u>liczby rzeczywiste</u> z przedziału $[3, 5)$;\n",
    "* losową <u>liczbę całkowitą</u> z zakresu $[2, 6]$.\n",
    "\n",
    "---\n",
    "\n",
    "b) Dokonaj <u>losowego wyboru</u> jednego elementu z listy:\n",
    "\n",
    "```\n",
    "['algebra', 'analiza', 'logika', 'programowanie']\n",
    "```\n",
    "\n",
    "Następnie utwórz 7-elementową listę, losując z powyższego zestawu <u>ze zwracaniem</u>!"
   ]
  }
 ],
 "metadata": {
  "kernelspec": {
   "argv": [
    "/usr/bin/python3",
    "-m",
    "ipykernel",
    "--HistoryManager.enabled=False",
    "--matplotlib=inline",
    "-c",
    "%config InlineBackend.figure_formats = set(['retina'])\nimport matplotlib; matplotlib.rcParams['figure.figsize'] = (12, 7)",
    "-f",
    "{connection_file}"
   ],
   "display_name": "Python 3 (system-wide)",
   "env": {
   },
   "language": "python",
   "metadata": {
    "cocalc": {
     "description": "Python 3 programming language",
     "priority": 100,
     "url": "https://www.python.org/"
    }
   },
   "name": "python3",
   "resource_dir": "/ext/jupyter/kernels/python3"
  },
  "language_info": {
   "codemirror_mode": {
    "name": "ipython",
    "version": 3
   },
   "file_extension": ".py",
   "mimetype": "text/x-python",
   "name": "python",
   "nbconvert_exporter": "python",
   "pygments_lexer": "ipython3",
   "version": "3.10.12"
  }
 },
 "nbformat": 4,
 "nbformat_minor": 4
}